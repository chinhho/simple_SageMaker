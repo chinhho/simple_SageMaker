{
 "cells": [
  {
   "cell_type": "code",
   "execution_count": 1,
   "metadata": {},
   "outputs": [],
   "source": [
    "import pandas as pd\n",
    "import numpy as np"
   ]
  },
  {
   "cell_type": "code",
   "execution_count": 2,
   "metadata": {},
   "outputs": [],
   "source": [
    "df=pd.read_csv('salary.csv')"
   ]
  },
  {
   "cell_type": "code",
   "execution_count": 3,
   "metadata": {},
   "outputs": [],
   "source": [
    "import sagemaker\n",
    "#boto3 use to interface with services from AWS such as S3 or EC2\n",
    "import boto3"
   ]
  },
  {
   "cell_type": "code",
   "execution_count": 4,
   "metadata": {},
   "outputs": [],
   "source": [
    "#create session to put in model later\n",
    "sagemaker_session= sagemaker.Session()\n",
    "#to use sage maker locally, need to install CLI in terminal"
   ]
  },
  {
   "cell_type": "code",
   "execution_count": 5,
   "metadata": {},
   "outputs": [],
   "source": [
    "#Define the S3 bucket and prefix that we want to use in this session\n",
    "bucket = 'sagemaker-bichinh' #created in AWS\n",
    "prefix = 'linear_learner' #prefix is subfolder within bucket"
   ]
  },
  {
   "cell_type": "code",
   "execution_count": 6,
   "metadata": {},
   "outputs": [
    {
     "name": "stderr",
     "output_type": "stream",
     "text": [
      "Couldn't call 'get_role' to get Role ARN from role name AmazonSageMaker-ExecutionRole-20210524T215690 to get Role path.\n",
      "Assuming role was created in SageMaker AWS console, as the name contains `AmazonSageMaker-ExecutionRole`. Defaulting to Role ARN with service-role in path. If this Role ARN is incorrect, please add IAM read permissions to your role or supply the Role Arn directly.\n"
     ]
    },
    {
     "name": "stdout",
     "output_type": "stream",
     "text": [
      "arn:aws:iam::715120690714:role/service-role/AmazonSageMaker-ExecutionRole-20210524T215690\n"
     ]
    }
   ],
   "source": [
    "# Note that AWS Identity and Access Management (IAM) role that Amazon SageMaker can assume to perform tasks on your behalf (for example, reading training results, called model artifacts, from the S3 bucket and writing training results to Amazon S3). \n",
    "role = sagemaker.get_execution_role()\n",
    "print(role)"
   ]
  },
  {
   "cell_type": "code",
   "execution_count": 7,
   "metadata": {},
   "outputs": [],
   "source": [
    "from sklearn.model_selection import train_test_split"
   ]
  },
  {
   "cell_type": "code",
   "execution_count": 8,
   "metadata": {},
   "outputs": [],
   "source": [
    "X=df[['YearsExperience']]\n",
    "y=df[['Salary']]"
   ]
  },
  {
   "cell_type": "code",
   "execution_count": 9,
   "metadata": {},
   "outputs": [
    {
     "data": {
      "text/html": [
       "<div>\n",
       "<style scoped>\n",
       "    .dataframe tbody tr th:only-of-type {\n",
       "        vertical-align: middle;\n",
       "    }\n",
       "\n",
       "    .dataframe tbody tr th {\n",
       "        vertical-align: top;\n",
       "    }\n",
       "\n",
       "    .dataframe thead th {\n",
       "        text-align: right;\n",
       "    }\n",
       "</style>\n",
       "<table border=\"1\" class=\"dataframe\">\n",
       "  <thead>\n",
       "    <tr style=\"text-align: right;\">\n",
       "      <th></th>\n",
       "      <th>YearsExperience</th>\n",
       "    </tr>\n",
       "  </thead>\n",
       "  <tbody>\n",
       "    <tr>\n",
       "      <th>0</th>\n",
       "      <td>1.1</td>\n",
       "    </tr>\n",
       "    <tr>\n",
       "      <th>1</th>\n",
       "      <td>1.3</td>\n",
       "    </tr>\n",
       "    <tr>\n",
       "      <th>2</th>\n",
       "      <td>1.5</td>\n",
       "    </tr>\n",
       "    <tr>\n",
       "      <th>3</th>\n",
       "      <td>2.0</td>\n",
       "    </tr>\n",
       "    <tr>\n",
       "      <th>4</th>\n",
       "      <td>2.2</td>\n",
       "    </tr>\n",
       "  </tbody>\n",
       "</table>\n",
       "</div>"
      ],
      "text/plain": [
       "   YearsExperience\n",
       "0              1.1\n",
       "1              1.3\n",
       "2              1.5\n",
       "3              2.0\n",
       "4              2.2"
      ]
     },
     "execution_count": 9,
     "metadata": {},
     "output_type": "execute_result"
    }
   ],
   "source": [
    "X.head()"
   ]
  },
  {
   "cell_type": "code",
   "execution_count": 10,
   "metadata": {},
   "outputs": [],
   "source": [
    "#the model only supports float32 tensor\n",
    "X = np.array(X).astype('float32')\n",
    "y = np.array(y).astype('float32')"
   ]
  },
  {
   "cell_type": "code",
   "execution_count": 11,
   "metadata": {},
   "outputs": [],
   "source": [
    "X_train, X_test, y_train, y_test = train_test_split(X, y, test_size = 0.2)"
   ]
  },
  {
   "cell_type": "code",
   "execution_count": 12,
   "metadata": {},
   "outputs": [
    {
     "data": {
      "text/plain": [
       "(28, 1)"
      ]
     },
     "execution_count": 12,
     "metadata": {},
     "output_type": "execute_result"
    }
   ],
   "source": [
    "X_train.shape"
   ]
  },
  {
   "cell_type": "code",
   "execution_count": 13,
   "metadata": {},
   "outputs": [],
   "source": [
    "#Labels must be a Vector\n",
    "y_train=y_train[:,0]"
   ]
  },
  {
   "cell_type": "code",
   "execution_count": 14,
   "metadata": {},
   "outputs": [
    {
     "data": {
      "text/plain": [
       "array([ 66029.,  81363., 135675.,  54445.,  60150., 113812.,  83088.,\n",
       "        64445.,  43525., 112635.,  55794., 127345., 105582.,  39343.,\n",
       "        57081.,  91738.,  39891.,  93940., 128765.,  57189.,  46205.,\n",
       "       139465., 101302.,  56642.,  67938., 121872.,  98273.,  37731.],\n",
       "      dtype=float32)"
      ]
     },
     "execution_count": 14,
     "metadata": {},
     "output_type": "execute_result"
    }
   ],
   "source": [
    "y_train"
   ]
  },
  {
   "cell_type": "code",
   "execution_count": 15,
   "metadata": {},
   "outputs": [],
   "source": [
    "#the input support recordIO, and the io module allows for dealing with various type of IO\n",
    "import io\n",
    "import sagemaker.amazon.common as smac #sage maker common library"
   ]
  },
  {
   "cell_type": "code",
   "execution_count": 16,
   "metadata": {},
   "outputs": [
    {
     "data": {
      "text/plain": [
       "0"
      ]
     },
     "execution_count": 16,
     "metadata": {},
     "output_type": "execute_result"
    }
   ],
   "source": [
    "#convert the data in numpy array format to RecordIO format\n",
    "#This is the format required by SageMaker\n",
    "\n",
    "buf = io.BytesIO() #create an in-memory byte array\n",
    "smac.write_numpy_to_dense_tensor(buf, X_train, y_train)\n",
    "\n",
    "# When you write to in-memory byte arrays, it increments 1 every time you write to it\n",
    "# Let's reset that back to zero \n",
    "buf.seek(0)"
   ]
  },
  {
   "cell_type": "code",
   "execution_count": 17,
   "metadata": {},
   "outputs": [
    {
     "name": "stdout",
     "output_type": "stream",
     "text": [
      "uploaded training data location: s3://sagemaker-bichinh/linear_learner/train/linear-train-data\n"
     ]
    }
   ],
   "source": [
    "#os module include many functions to interact with the file system.\n",
    "import os\n",
    "\n",
    "# Code to upload RecordIO data to S3\n",
    " \n",
    "# Key refers to the name of the file    \n",
    "key = 'linear-train-data'\n",
    "\n",
    "# The following code uploads the data in record-io format to S3 bucket to be accessed later for training\n",
    "boto3.resource('s3').Bucket(bucket).Object(os.path.join(prefix, 'train', key)).upload_fileobj(buf)\n",
    "\n",
    "# Let's print out the training data location in s3\n",
    "s3_train_data = 's3://{}/{}/train/{}'.format(bucket, prefix, key)\n",
    "print('uploaded training data location: {}'.format(s3_train_data))"
   ]
  },
  {
   "cell_type": "code",
   "execution_count": 18,
   "metadata": {},
   "outputs": [],
   "source": [
    "# Make sure that the target label is a vector\n",
    "y_test = y_test[:,0]"
   ]
  },
  {
   "cell_type": "code",
   "execution_count": 19,
   "metadata": {},
   "outputs": [
    {
     "data": {
      "text/plain": [
       "array([116969.,  61111., 122391., 126756.,  56957., 109431.,  63218.],\n",
       "      dtype=float32)"
      ]
     },
     "execution_count": 19,
     "metadata": {},
     "output_type": "execute_result"
    }
   ],
   "source": [
    "y_test"
   ]
  },
  {
   "cell_type": "code",
   "execution_count": 20,
   "metadata": {},
   "outputs": [
    {
     "name": "stdout",
     "output_type": "stream",
     "text": [
      "Training artifacts will be uploaded to: s3://sagemaker-bichinh/linear_learner/output\n"
     ]
    }
   ],
   "source": [
    "# create an output placeholder in S3 bucket to store the linear learner output\n",
    "\n",
    "output_location = 's3://{}/{}/output'.format(bucket, prefix)\n",
    "print('Training artifacts will be uploaded to: {}'.format(output_location))"
   ]
  },
  {
   "cell_type": "code",
   "execution_count": null,
   "metadata": {},
   "outputs": [],
   "source": []
  },
  {
   "cell_type": "code",
   "execution_count": 21,
   "metadata": {},
   "outputs": [],
   "source": [
    "# This code is used to get the training container of sagemaker built-in algorithms\n",
    "# all we have to do is to specify the name of the algorithm, that we want to use\n",
    "\n",
    "# Let's obtain a reference to the linearLearner container image\n",
    "# Note that all regression models are named estimators\n",
    "# You don't have to specify (hardcode) the region, get_image_uri will get the current region name using boto3.Session\n",
    "\n",
    "from sagemaker.amazon.amazon_estimator import image_uris\n",
    "\n",
    "container = sagemaker.image_uris.retrieve('linear-learner',boto3.Session().region_name )"
   ]
  },
  {
   "cell_type": "code",
   "execution_count": 22,
   "metadata": {},
   "outputs": [],
   "source": [
    "# We have pass in the container, the type of instance that we would like to use for training \n",
    "# output path and sagemaker session into the Estimator. \n",
    "# We can also specify how many instances we would like to use for training\n",
    "# sagemaker_session = sagemaker.Session()\n",
    "\n",
    "linear = sagemaker.estimator.Estimator(container,\n",
    "                                       role, \n",
    "                                       instance_count = 1, \n",
    "                                       instance_type = 'ml.c4.xlarge',\n",
    "                                       output_path = output_location,\n",
    "                                       sagemaker_session = sagemaker_session)\n",
    "\n",
    "\n",
    "# We can tune parameters like the number of features that we are passing in, type of predictor like 'regressor' or 'classifier', mini batch size, epochs\n",
    "# Train 32 different versions of the model and will get the best out of them (built-in parameters optimization!)\n",
    "\n",
    "linear.set_hyperparameters(feature_dim = 1,\n",
    "                           predictor_type = 'regressor',\n",
    "                           mini_batch_size = 5,\n",
    "                           epochs = 5,\n",
    "                           num_models = 32,\n",
    "                           loss = 'absolute_loss') #for regression, absolute_loss is the best)\n",
    "\n",
    "# Now we are ready to pass in the training data from S3 to train the linear learner model\n"
   ]
  },
  {
   "cell_type": "code",
   "execution_count": 23,
   "metadata": {},
   "outputs": [
    {
     "name": "stdout",
     "output_type": "stream",
     "text": [
      "2021-05-28 01:54:02 Starting - Starting the training job...ProfilerReport-1622166841: InProgress\n",
      "...\n",
      "2021-05-28 01:55:01 Starting - Launching requested ML instances......\n",
      "2021-05-28 01:56:01 Starting - Preparing the instances for training......\n",
      "2021-05-28 01:57:02 Downloading - Downloading input data...\n",
      "2021-05-28 01:57:31 Training - Downloading the training image...\n",
      "2021-05-28 01:58:02 Uploading - Uploading generated training model\u001b[34mDocker entrypoint called with argument(s): train\u001b[0m\n",
      "\u001b[34mRunning default environment configuration script\u001b[0m\n",
      "\u001b[34m[05/28/2021 01:57:56 INFO 140155614271296] Reading default configuration from /opt/amazon/lib/python3.7/site-packages/algorithm/resources/default-input.json: {'mini_batch_size': '1000', 'epochs': '15', 'feature_dim': 'auto', 'use_bias': 'true', 'binary_classifier_model_selection_criteria': 'accuracy', 'f_beta': '1.0', 'target_recall': '0.8', 'target_precision': '0.8', 'num_models': 'auto', 'num_calibration_samples': '10000000', 'init_method': 'uniform', 'init_scale': '0.07', 'init_sigma': '0.01', 'init_bias': '0.0', 'optimizer': 'auto', 'loss': 'auto', 'margin': '1.0', 'quantile': '0.5', 'loss_insensitivity': '0.01', 'huber_delta': '1.0', 'num_classes': '1', 'accuracy_top_k': '3', 'wd': 'auto', 'l1': 'auto', 'momentum': 'auto', 'learning_rate': 'auto', 'beta_1': 'auto', 'beta_2': 'auto', 'bias_lr_mult': 'auto', 'bias_wd_mult': 'auto', 'use_lr_scheduler': 'true', 'lr_scheduler_step': 'auto', 'lr_scheduler_factor': 'auto', 'lr_scheduler_minimum_lr': 'auto', 'positive_example_weight_mult': '1.0', 'balance_multiclass_weights': 'false', 'normalize_data': 'true', 'normalize_label': 'auto', 'unbias_data': 'auto', 'unbias_label': 'auto', 'num_point_for_scaler': '10000', '_kvstore': 'auto', '_num_gpus': 'auto', '_num_kv_servers': 'auto', '_log_level': 'info', '_tuning_objective_metric': '', 'early_stopping_patience': '3', 'early_stopping_tolerance': '0.001', '_enable_profiler': 'false'}\u001b[0m\n",
      "\u001b[34m[05/28/2021 01:57:56 INFO 140155614271296] Merging with provided configuration from /opt/ml/input/config/hyperparameters.json: {'loss': 'absolute_loss', 'feature_dim': '1', 'num_models': '32', 'predictor_type': 'regressor', 'epochs': '5', 'mini_batch_size': '5'}\u001b[0m\n",
      "\u001b[34m[05/28/2021 01:57:56 INFO 140155614271296] Final configuration: {'mini_batch_size': '5', 'epochs': '5', 'feature_dim': '1', 'use_bias': 'true', 'binary_classifier_model_selection_criteria': 'accuracy', 'f_beta': '1.0', 'target_recall': '0.8', 'target_precision': '0.8', 'num_models': '32', 'num_calibration_samples': '10000000', 'init_method': 'uniform', 'init_scale': '0.07', 'init_sigma': '0.01', 'init_bias': '0.0', 'optimizer': 'auto', 'loss': 'absolute_loss', 'margin': '1.0', 'quantile': '0.5', 'loss_insensitivity': '0.01', 'huber_delta': '1.0', 'num_classes': '1', 'accuracy_top_k': '3', 'wd': 'auto', 'l1': 'auto', 'momentum': 'auto', 'learning_rate': 'auto', 'beta_1': 'auto', 'beta_2': 'auto', 'bias_lr_mult': 'auto', 'bias_wd_mult': 'auto', 'use_lr_scheduler': 'true', 'lr_scheduler_step': 'auto', 'lr_scheduler_factor': 'auto', 'lr_scheduler_minimum_lr': 'auto', 'positive_example_weight_mult': '1.0', 'balance_multiclass_weights': 'false', 'normalize_data': 'true', 'normalize_label': 'auto', 'unbias_data': 'auto', 'unbias_label': 'auto', 'num_point_for_scaler': '10000', '_kvstore': 'auto', '_num_gpus': 'auto', '_num_kv_servers': 'auto', '_log_level': 'info', '_tuning_objective_metric': '', 'early_stopping_patience': '3', 'early_stopping_tolerance': '0.001', '_enable_profiler': 'false', 'predictor_type': 'regressor'}\u001b[0m\n",
      "\u001b[34m[05/28/2021 01:57:56 WARNING 140155614271296] Loggers have already been setup.\u001b[0m\n",
      "\u001b[34mProcess 1 is a worker.\u001b[0m\n",
      "\u001b[34m[05/28/2021 01:57:56 INFO 140155614271296] Using default worker.\u001b[0m\n",
      "\u001b[34m[05/28/2021 01:57:56 INFO 140155614271296] Checkpoint loading and saving are disabled.\u001b[0m\n",
      "\u001b[34m[2021-05-28 01:57:56.851] [tensorio] [info] epoch_stats={\"data_pipeline\": \"/opt/ml/input/data/train\", \"epoch\": 0, \"duration\": 14, \"num_examples\": 1, \"num_bytes\": 240}\u001b[0m\n",
      "\u001b[34m[05/28/2021 01:57:56 INFO 140155614271296] Create Store: local\u001b[0m\n",
      "\u001b[34m[2021-05-28 01:57:56.909] [tensorio] [info] epoch_stats={\"data_pipeline\": \"/opt/ml/input/data/train\", \"epoch\": 1, \"duration\": 57, \"num_examples\": 6, \"num_bytes\": 1344}\u001b[0m\n",
      "\u001b[34m[05/28/2021 01:57:56 INFO 140155614271296] Scaler algorithm parameters\n",
      " <algorithm.scaler.ScalerAlgorithmStable object at 0x7f7827b0f190>\u001b[0m\n",
      "\u001b[34m[05/28/2021 01:57:56 INFO 140155614271296] Scaling model computed with parameters:\n",
      " {'stdev_label': \u001b[0m\n",
      "\u001b[34m[31263.15]\u001b[0m\n",
      "\u001b[34m<NDArray 1 @cpu(0)>, 'stdev_weight': \u001b[0m\n",
      "\u001b[34m[3.6214383]\u001b[0m\n",
      "\u001b[34m<NDArray 1 @cpu(0)>, 'mean_label': \u001b[0m\n",
      "\u001b[34m[80935.484]\u001b[0m\n",
      "\u001b[34m<NDArray 1 @cpu(0)>, 'mean_weight': \u001b[0m\n",
      "\u001b[34m[5.9720006]\u001b[0m\n",
      "\u001b[34m<NDArray 1 @cpu(0)>}\u001b[0m\n",
      "\u001b[34m[05/28/2021 01:57:56 INFO 140155614271296] nvidia-smi: took 0.030 seconds to run.\u001b[0m\n",
      "\u001b[34m[05/28/2021 01:57:56 INFO 140155614271296] nvidia-smi identified 0 GPUs.\u001b[0m\n",
      "\u001b[34m[05/28/2021 01:57:56 INFO 140155614271296] Number of GPUs being used: 0\u001b[0m\n",
      "\u001b[34m#metrics {\"StartTime\": 1622167077.0182302, \"EndTime\": 1622167077.0182652, \"Dimensions\": {\"Algorithm\": \"Linear Learner\", \"Host\": \"algo-1\", \"Operation\": \"training\", \"Meta\": \"init_train_data_iter\"}, \"Metrics\": {\"Total Records Seen\": {\"sum\": 33.0, \"count\": 1, \"min\": 33, \"max\": 33}, \"Total Batches Seen\": {\"sum\": 7.0, \"count\": 1, \"min\": 7, \"max\": 7}, \"Max Records Seen Between Resets\": {\"sum\": 28.0, \"count\": 1, \"min\": 28, \"max\": 28}, \"Max Batches Seen Between Resets\": {\"sum\": 6.0, \"count\": 1, \"min\": 6, \"max\": 6}, \"Reset Count\": {\"sum\": 2.0, \"count\": 1, \"min\": 2, \"max\": 2}, \"Number of Records Since Last Reset\": {\"sum\": 0.0, \"count\": 1, \"min\": 0, \"max\": 0}, \"Number of Batches Since Last Reset\": {\"sum\": 0.0, \"count\": 1, \"min\": 0, \"max\": 0}}}\n",
      "\u001b[0m\n",
      "\u001b[34m[2021-05-28 01:57:57.149] [tensorio] [info] epoch_stats={\"data_pipeline\": \"/opt/ml/input/data/train\", \"epoch\": 4, \"duration\": 130, \"num_examples\": 6, \"num_bytes\": 1344}\u001b[0m\n",
      "\u001b[34m#metrics {\"StartTime\": 1622167077.1496005, \"EndTime\": 1622167077.1496768, \"Dimensions\": {\"Algorithm\": \"Linear Learner\", \"Host\": \"algo-1\", \"Operation\": \"training\", \"epoch\": 0, \"model\": 0}, \"Metrics\": {\"train_absolute_loss_objective\": {\"sum\": 0.8648452377319336, \"count\": 1, \"min\": 0.8648452377319336, \"max\": 0.8648452377319336}}}\n",
      "\u001b[0m\n",
      "\u001b[34m#metrics {\"StartTime\": 1622167077.1497517, \"EndTime\": 1622167077.1497686, \"Dimensions\": {\"Algorithm\": \"Linear Learner\", \"Host\": \"algo-1\", \"Operation\": \"training\", \"epoch\": 0, \"model\": 1}, \"Metrics\": {\"train_absolute_loss_objective\": {\"sum\": 0.8836285591125488, \"count\": 1, \"min\": 0.8836285591125488, \"max\": 0.8836285591125488}}}\n",
      "\u001b[0m\n",
      "\u001b[34m#metrics {\"StartTime\": 1622167077.1498265, \"EndTime\": 1622167077.1498413, \"Dimensions\": {\"Algorithm\": \"Linear Learner\", \"Host\": \"algo-1\", \"Operation\": \"training\", \"epoch\": 0, \"model\": 2}, \"Metrics\": {\"train_absolute_loss_objective\": {\"sum\": 0.8671205806732177, \"count\": 1, \"min\": 0.8671205806732177, \"max\": 0.8671205806732177}}}\n",
      "\u001b[0m\n",
      "\u001b[34m#metrics {\"StartTime\": 1622167077.1498904, \"EndTime\": 1622167077.1499052, \"Dimensions\": {\"Algorithm\": \"Linear Learner\", \"Host\": \"algo-1\", \"Operation\": \"training\", \"epoch\": 0, \"model\": 3}, \"Metrics\": {\"train_absolute_loss_objective\": {\"sum\": 0.8826686382293701, \"count\": 1, \"min\": 0.8826686382293701, \"max\": 0.8826686382293701}}}\n",
      "\u001b[0m\n",
      "\u001b[34m#metrics {\"StartTime\": 1622167077.1499546, \"EndTime\": 1622167077.149969, \"Dimensions\": {\"Algorithm\": \"Linear Learner\", \"Host\": \"algo-1\", \"Operation\": \"training\", \"epoch\": 0, \"model\": 4}, \"Metrics\": {\"train_absolute_loss_objective\": {\"sum\": 0.7409729099273682, \"count\": 1, \"min\": 0.7409729099273682, \"max\": 0.7409729099273682}}}\n",
      "\u001b[0m\n",
      "\u001b[34m#metrics {\"StartTime\": 1622167077.1499994, \"EndTime\": 1622167077.150008, \"Dimensions\": {\"Algorithm\": \"Linear Learner\", \"Host\": \"algo-1\", \"Operation\": \"training\", \"epoch\": 0, \"model\": 5}, \"Metrics\": {\"train_absolute_loss_objective\": {\"sum\": 0.7504312515258789, \"count\": 1, \"min\": 0.7504312515258789, \"max\": 0.7504312515258789}}}\n",
      "\u001b[0m\n",
      "\u001b[34m#metrics {\"StartTime\": 1622167077.1500537, \"EndTime\": 1622167077.150068, \"Dimensions\": {\"Algorithm\": \"Linear Learner\", \"Host\": \"algo-1\", \"Operation\": \"training\", \"epoch\": 0, \"model\": 6}, \"Metrics\": {\"train_absolute_loss_objective\": {\"sum\": 0.8312645339965821, \"count\": 1, \"min\": 0.8312645339965821, \"max\": 0.8312645339965821}}}\n",
      "\u001b[0m\n",
      "\u001b[34m#metrics {\"StartTime\": 1622167077.1501157, \"EndTime\": 1622167077.1501315, \"Dimensions\": {\"Algorithm\": \"Linear Learner\", \"Host\": \"algo-1\", \"Operation\": \"training\", \"epoch\": 0, \"model\": 7}, \"Metrics\": {\"train_absolute_loss_objective\": {\"sum\": 0.8031213188171387, \"count\": 1, \"min\": 0.8031213188171387, \"max\": 0.8031213188171387}}}\n",
      "\u001b[0m\n",
      "\u001b[34m#metrics {\"StartTime\": 1622167077.1501825, \"EndTime\": 1622167077.150198, \"Dimensions\": {\"Algorithm\": \"Linear Learner\", \"Host\": \"algo-1\", \"Operation\": \"training\", \"epoch\": 0, \"model\": 8}, \"Metrics\": {\"train_absolute_loss_objective\": {\"sum\": 0.9175841903686524, \"count\": 1, \"min\": 0.9175841903686524, \"max\": 0.9175841903686524}}}\n",
      "\u001b[0m\n",
      "\u001b[34m#metrics {\"StartTime\": 1622167077.1502469, \"EndTime\": 1622167077.1502626, \"Dimensions\": {\"Algorithm\": \"Linear Learner\", \"Host\": \"algo-1\", \"Operation\": \"training\", \"epoch\": 0, \"model\": 9}, \"Metrics\": {\"train_absolute_loss_objective\": {\"sum\": 0.8534953689575195, \"count\": 1, \"min\": 0.8534953689575195, \"max\": 0.8534953689575195}}}\n",
      "\u001b[0m\n",
      "\u001b[34m#metrics {\"StartTime\": 1622167077.1503124, \"EndTime\": 1622167077.1503284, \"Dimensions\": {\"Algorithm\": \"Linear Learner\", \"Host\": \"algo-1\", \"Operation\": \"training\", \"epoch\": 0, \"model\": 10}, \"Metrics\": {\"train_absolute_loss_objective\": {\"sum\": 0.8598154926300049, \"count\": 1, \"min\": 0.8598154926300049, \"max\": 0.8598154926300049}}}\n",
      "\u001b[0m\n",
      "\u001b[34m#metrics {\"StartTime\": 1622167077.1503792, \"EndTime\": 1622167077.1503942, \"Dimensions\": {\"Algorithm\": \"Linear Learner\", \"Host\": \"algo-1\", \"Operation\": \"training\", \"epoch\": 0, \"model\": 11}, \"Metrics\": {\"train_absolute_loss_objective\": {\"sum\": 0.8458398723602295, \"count\": 1, \"min\": 0.8458398723602295, \"max\": 0.8458398723602295}}}\n",
      "\u001b[0m\n",
      "\u001b[34m#metrics {\"StartTime\": 1622167077.1504426, \"EndTime\": 1622167077.1504579, \"Dimensions\": {\"Algorithm\": \"Linear Learner\", \"Host\": \"algo-1\", \"Operation\": \"training\", \"epoch\": 0, \"model\": 12}, \"Metrics\": {\"train_absolute_loss_objective\": {\"sum\": 0.7496065044403076, \"count\": 1, \"min\": 0.7496065044403076, \"max\": 0.7496065044403076}}}\n",
      "\u001b[0m\n",
      "\u001b[34m#metrics {\"StartTime\": 1622167077.1505086, \"EndTime\": 1622167077.150524, \"Dimensions\": {\"Algorithm\": \"Linear Learner\", \"Host\": \"algo-1\", \"Operation\": \"training\", \"epoch\": 0, \"model\": 13}, \"Metrics\": {\"train_absolute_loss_objective\": {\"sum\": 0.7751168727874755, \"count\": 1, \"min\": 0.7751168727874755, \"max\": 0.7751168727874755}}}\n",
      "\u001b[0m\n",
      "\u001b[34m#metrics {\"StartTime\": 1622167077.1505766, \"EndTime\": 1622167077.1505928, \"Dimensions\": {\"Algorithm\": \"Linear Learner\", \"Host\": \"algo-1\", \"Operation\": \"training\", \"epoch\": 0, \"model\": 14}, \"Metrics\": {\"train_absolute_loss_objective\": {\"sum\": 0.7481614780426026, \"count\": 1, \"min\": 0.7481614780426026, \"max\": 0.7481614780426026}}}\n",
      "\u001b[0m\n",
      "\u001b[34m#metrics {\"StartTime\": 1622167077.1506429, \"EndTime\": 1622167077.1506588, \"Dimensions\": {\"Algorithm\": \"Linear Learner\", \"Host\": \"algo-1\", \"Operation\": \"training\", \"epoch\": 0, \"model\": 15}, \"Metrics\": {\"train_absolute_loss_objective\": {\"sum\": 0.7812308597564698, \"count\": 1, \"min\": 0.7812308597564698, \"max\": 0.7812308597564698}}}\n",
      "\u001b[0m\n",
      "\u001b[34m#metrics {\"StartTime\": 1622167077.1507118, \"EndTime\": 1622167077.150729, \"Dimensions\": {\"Algorithm\": \"Linear Learner\", \"Host\": \"algo-1\", \"Operation\": \"training\", \"epoch\": 0, \"model\": 16}, \"Metrics\": {\"train_absolute_loss_objective\": {\"sum\": 0.8307601833343505, \"count\": 1, \"min\": 0.8307601833343505, \"max\": 0.8307601833343505}}}\n",
      "\u001b[0m\n",
      "\u001b[34m#metrics {\"StartTime\": 1622167077.1507797, \"EndTime\": 1622167077.1507936, \"Dimensions\": {\"Algorithm\": \"Linear Learner\", \"Host\": \"algo-1\", \"Operation\": \"training\", \"epoch\": 0, \"model\": 17}, \"Metrics\": {\"train_absolute_loss_objective\": {\"sum\": 0.879143476486206, \"count\": 1, \"min\": 0.879143476486206, \"max\": 0.879143476486206}}}\n",
      "\u001b[0m\n",
      "\u001b[34m#metrics {\"StartTime\": 1622167077.1508424, \"EndTime\": 1622167077.1508577, \"Dimensions\": {\"Algorithm\": \"Linear Learner\", \"Host\": \"algo-1\", \"Operation\": \"training\", \"epoch\": 0, \"model\": 18}, \"Metrics\": {\"train_absolute_loss_objective\": {\"sum\": 0.8563096904754639, \"count\": 1, \"min\": 0.8563096904754639, \"max\": 0.8563096904754639}}}\n",
      "\u001b[0m\n",
      "\u001b[34m#metrics {\"StartTime\": 1622167077.1509078, \"EndTime\": 1622167077.1509228, \"Dimensions\": {\"Algorithm\": \"Linear Learner\", \"Host\": \"algo-1\", \"Operation\": \"training\", \"epoch\": 0, \"model\": 19}, \"Metrics\": {\"train_absolute_loss_objective\": {\"sum\": 0.8537591361999511, \"count\": 1, \"min\": 0.8537591361999511, \"max\": 0.8537591361999511}}}\n",
      "\u001b[0m\n",
      "\u001b[34m#metrics {\"StartTime\": 1622167077.1509726, \"EndTime\": 1622167077.1509871, \"Dimensions\": {\"Algorithm\": \"Linear Learner\", \"Host\": \"algo-1\", \"Operation\": \"training\", \"epoch\": 0, \"model\": 20}, \"Metrics\": {\"train_absolute_loss_objective\": {\"sum\": 0.7965212917327881, \"count\": 1, \"min\": 0.7965212917327881, \"max\": 0.7965212917327881}}}\n",
      "\u001b[0m\n",
      "\u001b[34m#metrics {\"StartTime\": 1622167077.1510375, \"EndTime\": 1622167077.1510515, \"Dimensions\": {\"Algorithm\": \"Linear Learner\", \"Host\": \"algo-1\", \"Operation\": \"training\", \"epoch\": 0, \"model\": 21}, \"Metrics\": {\"train_absolute_loss_objective\": {\"sum\": 0.8107256126403809, \"count\": 1, \"min\": 0.8107256126403809, \"max\": 0.8107256126403809}}}\n",
      "\u001b[0m\n",
      "\u001b[34m#metrics {\"StartTime\": 1622167077.1511033, \"EndTime\": 1622167077.1511195, \"Dimensions\": {\"Algorithm\": \"Linear Learner\", \"Host\": \"algo-1\", \"Operation\": \"training\", \"epoch\": 0, \"model\": 22}, \"Metrics\": {\"train_absolute_loss_objective\": {\"sum\": 0.7508711719512939, \"count\": 1, \"min\": 0.7508711719512939, \"max\": 0.7508711719512939}}}\n",
      "\u001b[0m\n",
      "\u001b[34m#metrics {\"StartTime\": 1622167077.1511722, \"EndTime\": 1622167077.1511881, \"Dimensions\": {\"Algorithm\": \"Linear Learner\", \"Host\": \"algo-1\", \"Operation\": \"training\", \"epoch\": 0, \"model\": 23}, \"Metrics\": {\"train_absolute_loss_objective\": {\"sum\": 0.8352623081207275, \"count\": 1, \"min\": 0.8352623081207275, \"max\": 0.8352623081207275}}}\n",
      "\u001b[0m\n",
      "\u001b[34m#metrics {\"StartTime\": 1622167077.1512392, \"EndTime\": 1622167077.15125, \"Dimensions\": {\"Algorithm\": \"Linear Learner\", \"Host\": \"algo-1\", \"Operation\": \"training\", \"epoch\": 0, \"model\": 24}, \"Metrics\": {\"train_absolute_loss_objective\": {\"sum\": 0.8349073791503906, \"count\": 1, \"min\": 0.8349073791503906, \"max\": 0.8349073791503906}}}\n",
      "\u001b[0m\n",
      "\u001b[34m#metrics {\"StartTime\": 1622167077.1513016, \"EndTime\": 1622167077.1513186, \"Dimensions\": {\"Algorithm\": \"Linear Learner\", \"Host\": \"algo-1\", \"Operation\": \"training\", \"epoch\": 0, \"model\": 25}, \"Metrics\": {\"train_absolute_loss_objective\": {\"sum\": 0.8964437580108643, \"count\": 1, \"min\": 0.8964437580108643, \"max\": 0.8964437580108643}}}\n",
      "\u001b[0m\n",
      "\u001b[34m#metrics {\"StartTime\": 1622167077.1513717, \"EndTime\": 1622167077.1513884, \"Dimensions\": {\"Algorithm\": \"Linear Learner\", \"Host\": \"algo-1\", \"Operation\": \"training\", \"epoch\": 0, \"model\": 26}, \"Metrics\": {\"train_absolute_loss_objective\": {\"sum\": 0.8838938713073731, \"count\": 1, \"min\": 0.8838938713073731, \"max\": 0.8838938713073731}}}\n",
      "\u001b[0m\n",
      "\u001b[34m#metrics {\"StartTime\": 1622167077.151448, \"EndTime\": 1622167077.1514654, \"Dimensions\": {\"Algorithm\": \"Linear Learner\", \"Host\": \"algo-1\", \"Operation\": \"training\", \"epoch\": 0, \"model\": 27}, \"Metrics\": {\"train_absolute_loss_objective\": {\"sum\": 0.8739490413665771, \"count\": 1, \"min\": 0.8739490413665771, \"max\": 0.8739490413665771}}}\n",
      "\u001b[0m\n",
      "\u001b[34m#metrics {\"StartTime\": 1622167077.151517, \"EndTime\": 1622167077.151533, \"Dimensions\": {\"Algorithm\": \"Linear Learner\", \"Host\": \"algo-1\", \"Operation\": \"training\", \"epoch\": 0, \"model\": 28}, \"Metrics\": {\"train_absolute_loss_objective\": {\"sum\": 0.9366327476501465, \"count\": 1, \"min\": 0.9366327476501465, \"max\": 0.9366327476501465}}}\n",
      "\u001b[0m\n",
      "\u001b[34m#metrics {\"StartTime\": 1622167077.1515834, \"EndTime\": 1622167077.151597, \"Dimensions\": {\"Algorithm\": \"Linear Learner\", \"Host\": \"algo-1\", \"Operation\": \"training\", \"epoch\": 0, \"model\": 29}, \"Metrics\": {\"train_absolute_loss_objective\": {\"sum\": 0.9376336097717285, \"count\": 1, \"min\": 0.9376336097717285, \"max\": 0.9376336097717285}}}\n",
      "\u001b[0m\n",
      "\u001b[34m#metrics {\"StartTime\": 1622167077.151653, \"EndTime\": 1622167077.1516695, \"Dimensions\": {\"Algorithm\": \"Linear Learner\", \"Host\": \"algo-1\", \"Operation\": \"training\", \"epoch\": 0, \"model\": 30}, \"Metrics\": {\"train_absolute_loss_objective\": {\"sum\": 0.9533984565734863, \"count\": 1, \"min\": 0.9533984565734863, \"max\": 0.9533984565734863}}}\n",
      "\u001b[0m\n",
      "\u001b[34m#metrics {\"StartTime\": 1622167077.1517196, \"EndTime\": 1622167077.1517353, \"Dimensions\": {\"Algorithm\": \"Linear Learner\", \"Host\": \"algo-1\", \"Operation\": \"training\", \"epoch\": 0, \"model\": 31}, \"Metrics\": {\"train_absolute_loss_objective\": {\"sum\": 0.9323863887786865, \"count\": 1, \"min\": 0.9323863887786865, \"max\": 0.9323863887786865}}}\n",
      "\u001b[0m\n",
      "\u001b[34m[05/28/2021 01:57:57 INFO 140155614271296] #quality_metric: host=algo-1, epoch=0, train absolute_loss_objective <loss>=0.8648452377319336\u001b[0m\n",
      "\u001b[34m[05/28/2021 01:57:57 INFO 140155614271296] #early_stopping_criteria_metric: host=algo-1, epoch=0, criteria=absolute_loss_objective, value=0.7409729099273682\u001b[0m\n",
      "\u001b[34m[05/28/2021 01:57:57 INFO 140155614271296] Epoch 0: Loss improved. Updating best model\u001b[0m\n",
      "\u001b[34m[05/28/2021 01:57:57 INFO 140155614271296] Saving model for epoch: 0\u001b[0m\n",
      "\u001b[34m[05/28/2021 01:57:57 INFO 140155614271296] Saved checkpoint to \"/tmp/tmppu8p8rjt/mx-mod-0000.params\"\u001b[0m\n",
      "\u001b[34m[05/28/2021 01:57:57 INFO 140155614271296] #progress_metric: host=algo-1, completed 20.0 % of epochs\u001b[0m\n",
      "\u001b[34m#metrics {\"StartTime\": 1622167077.018544, \"EndTime\": 1622167077.1660898, \"Dimensions\": {\"Algorithm\": \"Linear Learner\", \"Host\": \"algo-1\", \"Operation\": \"training\", \"epoch\": 0, \"Meta\": \"training_data_iter\"}, \"Metrics\": {\"Total Records Seen\": {\"sum\": 61.0, \"count\": 1, \"min\": 61, \"max\": 61}, \"Total Batches Seen\": {\"sum\": 13.0, \"count\": 1, \"min\": 13, \"max\": 13}, \"Max Records Seen Between Resets\": {\"sum\": 28.0, \"count\": 1, \"min\": 28, \"max\": 28}, \"Max Batches Seen Between Resets\": {\"sum\": 6.0, \"count\": 1, \"min\": 6, \"max\": 6}, \"Reset Count\": {\"sum\": 3.0, \"count\": 1, \"min\": 3, \"max\": 3}, \"Number of Records Since Last Reset\": {\"sum\": 28.0, \"count\": 1, \"min\": 28, \"max\": 28}, \"Number of Batches Since Last Reset\": {\"sum\": 6.0, \"count\": 1, \"min\": 6, \"max\": 6}}}\n",
      "\u001b[0m\n",
      "\u001b[34m[05/28/2021 01:57:57 INFO 140155614271296] #throughput_metric: host=algo-1, train throughput=189.5954034938742 records/second\u001b[0m\n",
      "\u001b[34m[2021-05-28 01:57:57.282] [tensorio] [info] epoch_stats={\"data_pipeline\": \"/opt/ml/input/data/train\", \"epoch\": 6, \"duration\": 116, \"num_examples\": 6, \"num_bytes\": 1344}\u001b[0m\n",
      "\u001b[34m#metrics {\"StartTime\": 1622167077.2828798, \"EndTime\": 1622167077.2829618, \"Dimensions\": {\"Algorithm\": \"Linear Learner\", \"Host\": \"algo-1\", \"Operation\": \"training\", \"epoch\": 1, \"model\": 0}, \"Metrics\": {\"train_absolute_loss_objective\": {\"sum\": 0.8411125087738037, \"count\": 1, \"min\": 0.8411125087738037, \"max\": 0.8411125087738037}}}\n",
      "\u001b[0m\n",
      "\u001b[34m#metrics {\"StartTime\": 1622167077.2830467, \"EndTime\": 1622167077.2830648, \"Dimensions\": {\"Algorithm\": \"Linear Learner\", \"Host\": \"algo-1\", \"Operation\": \"training\", \"epoch\": 1, \"model\": 1}, \"Metrics\": {\"train_absolute_loss_objective\": {\"sum\": 0.8598958396911621, \"count\": 1, \"min\": 0.8598958396911621, \"max\": 0.8598958396911621}}}\n",
      "\u001b[0m\n",
      "\u001b[34m#metrics {\"StartTime\": 1622167077.2831218, \"EndTime\": 1622167077.283138, \"Dimensions\": {\"Algorithm\": \"Linear Learner\", \"Host\": \"algo-1\", \"Operation\": \"training\", \"epoch\": 1, \"model\": 2}, \"Metrics\": {\"train_absolute_loss_objective\": {\"sum\": 0.8433878517150879, \"count\": 1, \"min\": 0.8433878517150879, \"max\": 0.8433878517150879}}}\n",
      "\u001b[0m\n",
      "\u001b[34m#metrics {\"StartTime\": 1622167077.2831914, \"EndTime\": 1622167077.2832088, \"Dimensions\": {\"Algorithm\": \"Linear Learner\", \"Host\": \"algo-1\", \"Operation\": \"training\", \"epoch\": 1, \"model\": 3}, \"Metrics\": {\"train_absolute_loss_objective\": {\"sum\": 0.8589359474182129, \"count\": 1, \"min\": 0.8589359474182129, \"max\": 0.8589359474182129}}}\n",
      "\u001b[0m\n",
      "\u001b[34m#metrics {\"StartTime\": 1622167077.2832623, \"EndTime\": 1622167077.2832794, \"Dimensions\": {\"Algorithm\": \"Linear Learner\", \"Host\": \"algo-1\", \"Operation\": \"training\", \"epoch\": 1, \"model\": 4}, \"Metrics\": {\"train_absolute_loss_objective\": {\"sum\": 0.315943808555603, \"count\": 1, \"min\": 0.315943808555603, \"max\": 0.315943808555603}}}\n",
      "\u001b[0m\n",
      "\u001b[34m#metrics {\"StartTime\": 1622167077.2833316, \"EndTime\": 1622167077.2833483, \"Dimensions\": {\"Algorithm\": \"Linear Learner\", \"Host\": \"algo-1\", \"Operation\": \"training\", \"epoch\": 1, \"model\": 5}, \"Metrics\": {\"train_absolute_loss_objective\": {\"sum\": 0.3232780909538269, \"count\": 1, \"min\": 0.3232780909538269, \"max\": 0.3232780909538269}}}\n",
      "\u001b[0m\n",
      "\u001b[34m#metrics {\"StartTime\": 1622167077.2833993, \"EndTime\": 1622167077.2834153, \"Dimensions\": {\"Algorithm\": \"Linear Learner\", \"Host\": \"algo-1\", \"Operation\": \"training\", \"epoch\": 1, \"model\": 6}, \"Metrics\": {\"train_absolute_loss_objective\": {\"sum\": 0.3859588694572449, \"count\": 1, \"min\": 0.3859588694572449, \"max\": 0.3859588694572449}}}\n",
      "\u001b[0m\n",
      "\u001b[34m#metrics {\"StartTime\": 1622167077.2834663, \"EndTime\": 1622167077.2834816, \"Dimensions\": {\"Algorithm\": \"Linear Learner\", \"Host\": \"algo-1\", \"Operation\": \"training\", \"epoch\": 1, \"model\": 7}, \"Metrics\": {\"train_absolute_loss_objective\": {\"sum\": 0.3641356587409973, \"count\": 1, \"min\": 0.3641356587409973, \"max\": 0.3641356587409973}}}\n",
      "\u001b[0m\n",
      "\u001b[34m#metrics {\"StartTime\": 1622167077.2835326, \"EndTime\": 1622167077.2835495, \"Dimensions\": {\"Algorithm\": \"Linear Learner\", \"Host\": \"algo-1\", \"Operation\": \"training\", \"epoch\": 1, \"model\": 8}, \"Metrics\": {\"train_absolute_loss_objective\": {\"sum\": 0.8938515567779541, \"count\": 1, \"min\": 0.8938515567779541, \"max\": 0.8938515567779541}}}\n",
      "\u001b[0m\n",
      "\u001b[34m#metrics {\"StartTime\": 1622167077.283599, \"EndTime\": 1622167077.2836156, \"Dimensions\": {\"Algorithm\": \"Linear Learner\", \"Host\": \"algo-1\", \"Operation\": \"training\", \"epoch\": 1, \"model\": 9}, \"Metrics\": {\"train_absolute_loss_objective\": {\"sum\": 0.8297630310058594, \"count\": 1, \"min\": 0.8297630310058594, \"max\": 0.8297630310058594}}}\n",
      "\u001b[0m\n",
      "\u001b[34m#metrics {\"StartTime\": 1622167077.2836664, \"EndTime\": 1622167077.283682, \"Dimensions\": {\"Algorithm\": \"Linear Learner\", \"Host\": \"algo-1\", \"Operation\": \"training\", \"epoch\": 1, \"model\": 10}, \"Metrics\": {\"train_absolute_loss_objective\": {\"sum\": 0.8360831260681152, \"count\": 1, \"min\": 0.8360831260681152, \"max\": 0.8360831260681152}}}\n",
      "\u001b[0m\n",
      "\u001b[34m#metrics {\"StartTime\": 1622167077.2837443, \"EndTime\": 1622167077.2837615, \"Dimensions\": {\"Algorithm\": \"Linear Learner\", \"Host\": \"algo-1\", \"Operation\": \"training\", \"epoch\": 1, \"model\": 11}, \"Metrics\": {\"train_absolute_loss_objective\": {\"sum\": 0.8221075534820557, \"count\": 1, \"min\": 0.8221075534820557, \"max\": 0.8221075534820557}}}\n",
      "\u001b[0m\n",
      "\u001b[34m#metrics {\"StartTime\": 1622167077.2838147, \"EndTime\": 1622167077.2838311, \"Dimensions\": {\"Algorithm\": \"Linear Learner\", \"Host\": \"algo-1\", \"Operation\": \"training\", \"epoch\": 1, \"model\": 12}, \"Metrics\": {\"train_absolute_loss_objective\": {\"sum\": 0.32275275230407713, \"count\": 1, \"min\": 0.32275275230407713, \"max\": 0.32275275230407713}}}\n",
      "\u001b[0m\n",
      "\u001b[34m#metrics {\"StartTime\": 1622167077.2838883, \"EndTime\": 1622167077.2839046, \"Dimensions\": {\"Algorithm\": \"Linear Learner\", \"Host\": \"algo-1\", \"Operation\": \"training\", \"epoch\": 1, \"model\": 13}, \"Metrics\": {\"train_absolute_loss_objective\": {\"sum\": 0.342524733543396, \"count\": 1, \"min\": 0.342524733543396, \"max\": 0.342524733543396}}}\n",
      "\u001b[0m\n",
      "\u001b[34m#metrics {\"StartTime\": 1622167077.2839549, \"EndTime\": 1622167077.2839706, \"Dimensions\": {\"Algorithm\": \"Linear Learner\", \"Host\": \"algo-1\", \"Operation\": \"training\", \"epoch\": 1, \"model\": 14}, \"Metrics\": {\"train_absolute_loss_objective\": {\"sum\": 0.32163276195526125, \"count\": 1, \"min\": 0.32163276195526125, \"max\": 0.32163276195526125}}}\n",
      "\u001b[0m\n",
      "\u001b[34m#metrics {\"StartTime\": 1622167077.2840223, \"EndTime\": 1622167077.284038, \"Dimensions\": {\"Algorithm\": \"Linear Learner\", \"Host\": \"algo-1\", \"Operation\": \"training\", \"epoch\": 1, \"model\": 15}, \"Metrics\": {\"train_absolute_loss_objective\": {\"sum\": 0.3472634792327881, \"count\": 1, \"min\": 0.3472634792327881, \"max\": 0.3472634792327881}}}\n",
      "\u001b[0m\n",
      "\u001b[34m#metrics {\"StartTime\": 1622167077.2840896, \"EndTime\": 1622167077.2841058, \"Dimensions\": {\"Algorithm\": \"Linear Learner\", \"Host\": \"algo-1\", \"Operation\": \"training\", \"epoch\": 1, \"model\": 16}, \"Metrics\": {\"train_absolute_loss_objective\": {\"sum\": 0.8070804500579833, \"count\": 1, \"min\": 0.8070804500579833, \"max\": 0.8070804500579833}}}\n",
      "\u001b[0m\n",
      "\u001b[34m#metrics {\"StartTime\": 1622167077.284156, \"EndTime\": 1622167077.2841723, \"Dimensions\": {\"Algorithm\": \"Linear Learner\", \"Host\": \"algo-1\", \"Operation\": \"training\", \"epoch\": 1, \"model\": 17}, \"Metrics\": {\"train_absolute_loss_objective\": {\"sum\": 0.855436487197876, \"count\": 1, \"min\": 0.855436487197876, \"max\": 0.855436487197876}}}\n",
      "\u001b[0m\n",
      "\u001b[34m#metrics {\"StartTime\": 1622167077.2842216, \"EndTime\": 1622167077.2842371, \"Dimensions\": {\"Algorithm\": \"Linear Learner\", \"Host\": \"algo-1\", \"Operation\": \"training\", \"epoch\": 1, \"model\": 18}, \"Metrics\": {\"train_absolute_loss_objective\": {\"sum\": 0.8326147270202636, \"count\": 1, \"min\": 0.8326147270202636, \"max\": 0.8326147270202636}}}\n",
      "\u001b[0m\n",
      "\u001b[34m#metrics {\"StartTime\": 1622167077.2842937, \"EndTime\": 1622167077.2843046, \"Dimensions\": {\"Algorithm\": \"Linear Learner\", \"Host\": \"algo-1\", \"Operation\": \"training\", \"epoch\": 1, \"model\": 19}, \"Metrics\": {\"train_absolute_loss_objective\": {\"sum\": 0.8300655841827392, \"count\": 1, \"min\": 0.8300655841827392, \"max\": 0.8300655841827392}}}\n",
      "\u001b[0m\n",
      "\u001b[34m#metrics {\"StartTime\": 1622167077.2843482, \"EndTime\": 1622167077.2843637, \"Dimensions\": {\"Algorithm\": \"Linear Learner\", \"Host\": \"algo-1\", \"Operation\": \"training\", \"epoch\": 1, \"model\": 20}, \"Metrics\": {\"train_absolute_loss_objective\": {\"sum\": 0.3857832789421082, \"count\": 1, \"min\": 0.3857832789421082, \"max\": 0.3857832789421082}}}\n",
      "\u001b[0m\n",
      "\u001b[34m#metrics {\"StartTime\": 1622167077.2844148, \"EndTime\": 1622167077.28443, \"Dimensions\": {\"Algorithm\": \"Linear Learner\", \"Host\": \"algo-1\", \"Operation\": \"training\", \"epoch\": 1, \"model\": 21}, \"Metrics\": {\"train_absolute_loss_objective\": {\"sum\": 0.39745996475219725, \"count\": 1, \"min\": 0.39745996475219725, \"max\": 0.39745996475219725}}}\n",
      "\u001b[0m\n",
      "\u001b[34m#metrics {\"StartTime\": 1622167077.28448, \"EndTime\": 1622167077.2844927, \"Dimensions\": {\"Algorithm\": \"Linear Learner\", \"Host\": \"algo-1\", \"Operation\": \"training\", \"epoch\": 1, \"model\": 22}, \"Metrics\": {\"train_absolute_loss_objective\": {\"sum\": 0.35111459493637087, \"count\": 1, \"min\": 0.35111459493637087, \"max\": 0.35111459493637087}}}\n",
      "\u001b[0m\n",
      "\u001b[34m#metrics {\"StartTime\": 1622167077.2845206, \"EndTime\": 1622167077.2845287, \"Dimensions\": {\"Algorithm\": \"Linear Learner\", \"Host\": \"algo-1\", \"Operation\": \"training\", \"epoch\": 1, \"model\": 23}, \"Metrics\": {\"train_absolute_loss_objective\": {\"sum\": 0.4180645561218262, \"count\": 1, \"min\": 0.4180645561218262, \"max\": 0.4180645561218262}}}\n",
      "\u001b[0m\n",
      "\u001b[34m#metrics {\"StartTime\": 1622167077.2845716, \"EndTime\": 1622167077.2845857, \"Dimensions\": {\"Algorithm\": \"Linear Learner\", \"Host\": \"algo-1\", \"Operation\": \"training\", \"epoch\": 1, \"model\": 24}, \"Metrics\": {\"train_absolute_loss_objective\": {\"sum\": 0.8509371757507325, \"count\": 1, \"min\": 0.8509371757507325, \"max\": 0.8509371757507325}}}\n",
      "\u001b[0m\n",
      "\u001b[34m#metrics {\"StartTime\": 1622167077.284634, \"EndTime\": 1622167077.2846444, \"Dimensions\": {\"Algorithm\": \"Linear Learner\", \"Host\": \"algo-1\", \"Operation\": \"training\", \"epoch\": 1, \"model\": 25}, \"Metrics\": {\"train_absolute_loss_objective\": {\"sum\": 0.8742704010009765, \"count\": 1, \"min\": 0.8742704010009765, \"max\": 0.8742704010009765}}}\n",
      "\u001b[0m\n",
      "\u001b[34m#metrics {\"StartTime\": 1622167077.2846851, \"EndTime\": 1622167077.2846994, \"Dimensions\": {\"Algorithm\": \"Linear Learner\", \"Host\": \"algo-1\", \"Operation\": \"training\", \"epoch\": 1, \"model\": 26}, \"Metrics\": {\"train_absolute_loss_objective\": {\"sum\": 0.8646108436584473, \"count\": 1, \"min\": 0.8646108436584473, \"max\": 0.8646108436584473}}}\n",
      "\u001b[0m\n",
      "\u001b[34m#metrics {\"StartTime\": 1622167077.2847466, \"EndTime\": 1622167077.2847602, \"Dimensions\": {\"Algorithm\": \"Linear Learner\", \"Host\": \"algo-1\", \"Operation\": \"training\", \"epoch\": 1, \"model\": 27}, \"Metrics\": {\"train_absolute_loss_objective\": {\"sum\": 0.8656948852539063, \"count\": 1, \"min\": 0.8656948852539063, \"max\": 0.8656948852539063}}}\n",
      "\u001b[0m\n",
      "\u001b[34m#metrics {\"StartTime\": 1622167077.2848155, \"EndTime\": 1622167077.2848313, \"Dimensions\": {\"Algorithm\": \"Linear Learner\", \"Host\": \"algo-1\", \"Operation\": \"training\", \"epoch\": 1, \"model\": 28}, \"Metrics\": {\"train_absolute_loss_objective\": {\"sum\": 0.8936526298522949, \"count\": 1, \"min\": 0.8936526298522949, \"max\": 0.8936526298522949}}}\n",
      "\u001b[0m\n",
      "\u001b[34m#metrics {\"StartTime\": 1622167077.2848816, \"EndTime\": 1622167077.2848978, \"Dimensions\": {\"Algorithm\": \"Linear Learner\", \"Host\": \"algo-1\", \"Operation\": \"training\", \"epoch\": 1, \"model\": 29}, \"Metrics\": {\"train_absolute_loss_objective\": {\"sum\": 0.8926099586486816, \"count\": 1, \"min\": 0.8926099586486816, \"max\": 0.8926099586486816}}}\n",
      "\u001b[0m\n",
      "\u001b[34m#metrics {\"StartTime\": 1622167077.2849393, \"EndTime\": 1622167077.2849488, \"Dimensions\": {\"Algorithm\": \"Linear Learner\", \"Host\": \"algo-1\", \"Operation\": \"training\", \"epoch\": 1, \"model\": 30}, \"Metrics\": {\"train_absolute_loss_objective\": {\"sum\": 0.8835563087463378, \"count\": 1, \"min\": 0.8835563087463378, \"max\": 0.8835563087463378}}}\n",
      "\u001b[0m\n",
      "\u001b[34m#metrics {\"StartTime\": 1622167077.2849739, \"EndTime\": 1622167077.2849813, \"Dimensions\": {\"Algorithm\": \"Linear Learner\", \"Host\": \"algo-1\", \"Operation\": \"training\", \"epoch\": 1, \"model\": 31}, \"Metrics\": {\"train_absolute_loss_objective\": {\"sum\": 0.8897817039489746, \"count\": 1, \"min\": 0.8897817039489746, \"max\": 0.8897817039489746}}}\n",
      "\u001b[0m\n",
      "\u001b[34m[05/28/2021 01:57:57 INFO 140155614271296] #quality_metric: host=algo-1, epoch=1, train absolute_loss_objective <loss>=0.8411125087738037\u001b[0m\n",
      "\u001b[34m[05/28/2021 01:57:57 INFO 140155614271296] #early_stopping_criteria_metric: host=algo-1, epoch=1, criteria=absolute_loss_objective, value=0.315943808555603\u001b[0m\n",
      "\u001b[34m[05/28/2021 01:57:57 INFO 140155614271296] Epoch 1: Loss improved. Updating best model\u001b[0m\n",
      "\u001b[34m[05/28/2021 01:57:57 INFO 140155614271296] Saving model for epoch: 1\u001b[0m\n",
      "\u001b[34m[05/28/2021 01:57:57 INFO 140155614271296] Saved checkpoint to \"/tmp/tmp9i70mknj/mx-mod-0000.params\"\u001b[0m\n",
      "\u001b[34m[05/28/2021 01:57:57 INFO 140155614271296] #progress_metric: host=algo-1, completed 40.0 % of epochs\u001b[0m\n",
      "\u001b[34m#metrics {\"StartTime\": 1622167077.1663775, \"EndTime\": 1622167077.2946615, \"Dimensions\": {\"Algorithm\": \"Linear Learner\", \"Host\": \"algo-1\", \"Operation\": \"training\", \"epoch\": 1, \"Meta\": \"training_data_iter\"}, \"Metrics\": {\"Total Records Seen\": {\"sum\": 89.0, \"count\": 1, \"min\": 89, \"max\": 89}, \"Total Batches Seen\": {\"sum\": 19.0, \"count\": 1, \"min\": 19, \"max\": 19}, \"Max Records Seen Between Resets\": {\"sum\": 28.0, \"count\": 1, \"min\": 28, \"max\": 28}, \"Max Batches Seen Between Resets\": {\"sum\": 6.0, \"count\": 1, \"min\": 6, \"max\": 6}, \"Reset Count\": {\"sum\": 4.0, \"count\": 1, \"min\": 4, \"max\": 4}, \"Number of Records Since Last Reset\": {\"sum\": 28.0, \"count\": 1, \"min\": 28, \"max\": 28}, \"Number of Batches Since Last Reset\": {\"sum\": 6.0, \"count\": 1, \"min\": 6, \"max\": 6}}}\n",
      "\u001b[0m\n",
      "\u001b[34m[05/28/2021 01:57:57 INFO 140155614271296] #throughput_metric: host=algo-1, train throughput=218.03640360322893 records/second\u001b[0m\n",
      "\u001b[34m[2021-05-28 01:57:57.417] [tensorio] [info] epoch_stats={\"data_pipeline\": \"/opt/ml/input/data/train\", \"epoch\": 8, \"duration\": 122, \"num_examples\": 6, \"num_bytes\": 1344}\u001b[0m\n",
      "\u001b[34m#metrics {\"StartTime\": 1622167077.4175231, \"EndTime\": 1622167077.4175994, \"Dimensions\": {\"Algorithm\": \"Linear Learner\", \"Host\": \"algo-1\", \"Operation\": \"training\", \"epoch\": 2, \"model\": 0}, \"Metrics\": {\"train_absolute_loss_objective\": {\"sum\": 0.8187944316864013, \"count\": 1, \"min\": 0.8187944316864013, \"max\": 0.8187944316864013}}}\n",
      "\u001b[0m\n",
      "\u001b[34m#metrics {\"StartTime\": 1622167077.4176826, \"EndTime\": 1622167077.4176967, \"Dimensions\": {\"Algorithm\": \"Linear Learner\", \"Host\": \"algo-1\", \"Operation\": \"training\", \"epoch\": 2, \"model\": 1}, \"Metrics\": {\"train_absolute_loss_objective\": {\"sum\": 0.8374863910675049, \"count\": 1, \"min\": 0.8374863910675049, \"max\": 0.8374863910675049}}}\n",
      "\u001b[0m\n",
      "\u001b[34m#metrics {\"StartTime\": 1622167077.4177346, \"EndTime\": 1622167077.417745, \"Dimensions\": {\"Algorithm\": \"Linear Learner\", \"Host\": \"algo-1\", \"Operation\": \"training\", \"epoch\": 2, \"model\": 2}, \"Metrics\": {\"train_absolute_loss_objective\": {\"sum\": 0.8210697650909424, \"count\": 1, \"min\": 0.8210697650909424, \"max\": 0.8210697650909424}}}\n",
      "\u001b[0m\n",
      "\u001b[34m#metrics {\"StartTime\": 1622167077.4177873, \"EndTime\": 1622167077.4177985, \"Dimensions\": {\"Algorithm\": \"Linear Learner\", \"Host\": \"algo-1\", \"Operation\": \"training\", \"epoch\": 2, \"model\": 3}, \"Metrics\": {\"train_absolute_loss_objective\": {\"sum\": 0.8365264987945557, \"count\": 1, \"min\": 0.8365264987945557, \"max\": 0.8365264987945557}}}\n",
      "\u001b[0m\n",
      "\u001b[34m#metrics {\"StartTime\": 1622167077.4178398, \"EndTime\": 1622167077.4178503, \"Dimensions\": {\"Algorithm\": \"Linear Learner\", \"Host\": \"algo-1\", \"Operation\": \"training\", \"epoch\": 2, \"model\": 4}, \"Metrics\": {\"train_absolute_loss_objective\": {\"sum\": 0.2620963430404663, \"count\": 1, \"min\": 0.2620963430404663, \"max\": 0.2620963430404663}}}\n",
      "\u001b[0m\n",
      "\u001b[34m#metrics {\"StartTime\": 1622167077.4178843, \"EndTime\": 1622167077.4178936, \"Dimensions\": {\"Algorithm\": \"Linear Learner\", \"Host\": \"algo-1\", \"Operation\": \"training\", \"epoch\": 2, \"model\": 5}, \"Metrics\": {\"train_absolute_loss_objective\": {\"sum\": 0.2585195684432983, \"count\": 1, \"min\": 0.2585195684432983, \"max\": 0.2585195684432983}}}\n",
      "\u001b[0m\n",
      "\u001b[34m#metrics {\"StartTime\": 1622167077.417936, \"EndTime\": 1622167077.4179454, \"Dimensions\": {\"Algorithm\": \"Linear Learner\", \"Host\": \"algo-1\", \"Operation\": \"training\", \"epoch\": 2, \"model\": 6}, \"Metrics\": {\"train_absolute_loss_objective\": {\"sum\": 0.2312926697731018, \"count\": 1, \"min\": 0.2312926697731018, \"max\": 0.2312926697731018}}}\n",
      "\u001b[0m\n",
      "\u001b[34m#metrics {\"StartTime\": 1622167077.4179833, \"EndTime\": 1622167077.4179926, \"Dimensions\": {\"Algorithm\": \"Linear Learner\", \"Host\": \"algo-1\", \"Operation\": \"training\", \"epoch\": 2, \"model\": 7}, \"Metrics\": {\"train_absolute_loss_objective\": {\"sum\": 0.23050662279129028, \"count\": 1, \"min\": 0.23050662279129028, \"max\": 0.23050662279129028}}}\n",
      "\u001b[0m\n",
      "\u001b[34m#metrics {\"StartTime\": 1622167077.418026, \"EndTime\": 1622167077.4180355, \"Dimensions\": {\"Algorithm\": \"Linear Learner\", \"Host\": \"algo-1\", \"Operation\": \"training\", \"epoch\": 2, \"model\": 8}, \"Metrics\": {\"train_absolute_loss_objective\": {\"sum\": 0.871534309387207, \"count\": 1, \"min\": 0.871534309387207, \"max\": 0.871534309387207}}}\n",
      "\u001b[0m\n",
      "\u001b[34m#metrics {\"StartTime\": 1622167077.4180763, \"EndTime\": 1622167077.4180903, \"Dimensions\": {\"Algorithm\": \"Linear Learner\", \"Host\": \"algo-1\", \"Operation\": \"training\", \"epoch\": 2, \"model\": 9}, \"Metrics\": {\"train_absolute_loss_objective\": {\"sum\": 0.8073548030853271, \"count\": 1, \"min\": 0.8073548030853271, \"max\": 0.8073548030853271}}}\n",
      "\u001b[0m\n",
      "\u001b[34m#metrics {\"StartTime\": 1622167077.418131, \"EndTime\": 1622167077.4181414, \"Dimensions\": {\"Algorithm\": \"Linear Learner\", \"Host\": \"algo-1\", \"Operation\": \"training\", \"epoch\": 2, \"model\": 10}, \"Metrics\": {\"train_absolute_loss_objective\": {\"sum\": 0.8137662410736084, \"count\": 1, \"min\": 0.8137662410736084, \"max\": 0.8137662410736084}}}\n",
      "\u001b[0m\n",
      "\u001b[34m#metrics {\"StartTime\": 1622167077.418176, \"EndTime\": 1622167077.4181855, \"Dimensions\": {\"Algorithm\": \"Linear Learner\", \"Host\": \"algo-1\", \"Operation\": \"training\", \"epoch\": 2, \"model\": 11}, \"Metrics\": {\"train_absolute_loss_objective\": {\"sum\": 0.7996994018554687, \"count\": 1, \"min\": 0.7996994018554687, \"max\": 0.7996994018554687}}}\n",
      "\u001b[0m\n",
      "\u001b[34m#metrics {\"StartTime\": 1622167077.4182186, \"EndTime\": 1622167077.418228, \"Dimensions\": {\"Algorithm\": \"Linear Learner\", \"Host\": \"algo-1\", \"Operation\": \"training\", \"epoch\": 2, \"model\": 12}, \"Metrics\": {\"train_absolute_loss_objective\": {\"sum\": 0.2563517093658447, \"count\": 1, \"min\": 0.2563517093658447, \"max\": 0.2563517093658447}}}\n",
      "\u001b[0m\n",
      "\u001b[34m#metrics {\"StartTime\": 1622167077.418261, \"EndTime\": 1622167077.41827, \"Dimensions\": {\"Algorithm\": \"Linear Learner\", \"Host\": \"algo-1\", \"Operation\": \"training\", \"epoch\": 2, \"model\": 13}, \"Metrics\": {\"train_absolute_loss_objective\": {\"sum\": 0.24427528858184813, \"count\": 1, \"min\": 0.24427528858184813, \"max\": 0.24427528858184813}}}\n",
      "\u001b[0m\n",
      "\u001b[34m#metrics {\"StartTime\": 1622167077.418303, \"EndTime\": 1622167077.4183123, \"Dimensions\": {\"Algorithm\": \"Linear Learner\", \"Host\": \"algo-1\", \"Operation\": \"training\", \"epoch\": 2, \"model\": 14}, \"Metrics\": {\"train_absolute_loss_objective\": {\"sum\": 0.2571175336837769, \"count\": 1, \"min\": 0.2571175336837769, \"max\": 0.2571175336837769}}}\n",
      "\u001b[0m\n",
      "\u001b[34m#metrics {\"StartTime\": 1622167077.4183447, \"EndTime\": 1622167077.418354, \"Dimensions\": {\"Algorithm\": \"Linear Learner\", \"Host\": \"algo-1\", \"Operation\": \"training\", \"epoch\": 2, \"model\": 15}, \"Metrics\": {\"train_absolute_loss_objective\": {\"sum\": 0.2410352087020874, \"count\": 1, \"min\": 0.2410352087020874, \"max\": 0.2410352087020874}}}\n",
      "\u001b[0m\n",
      "\u001b[34m#metrics {\"StartTime\": 1622167077.4183865, \"EndTime\": 1622167077.4183958, \"Dimensions\": {\"Algorithm\": \"Linear Learner\", \"Host\": \"algo-1\", \"Operation\": \"training\", \"epoch\": 2, \"model\": 16}, \"Metrics\": {\"train_absolute_loss_objective\": {\"sum\": 0.7849179553985596, \"count\": 1, \"min\": 0.7849179553985596, \"max\": 0.7849179553985596}}}\n",
      "\u001b[0m\n",
      "\u001b[34m#metrics {\"StartTime\": 1622167077.4184306, \"EndTime\": 1622167077.41844, \"Dimensions\": {\"Algorithm\": \"Linear Learner\", \"Host\": \"algo-1\", \"Operation\": \"training\", \"epoch\": 2, \"model\": 17}, \"Metrics\": {\"train_absolute_loss_objective\": {\"sum\": 0.833141746520996, \"count\": 1, \"min\": 0.833141746520996, \"max\": 0.833141746520996}}}\n",
      "\u001b[0m\n",
      "\u001b[34m#metrics {\"StartTime\": 1622167077.418482, \"EndTime\": 1622167077.418493, \"Dimensions\": {\"Algorithm\": \"Linear Learner\", \"Host\": \"algo-1\", \"Operation\": \"training\", \"epoch\": 2, \"model\": 18}, \"Metrics\": {\"train_absolute_loss_objective\": {\"sum\": 0.8104290962219238, \"count\": 1, \"min\": 0.8104290962219238, \"max\": 0.8104290962219238}}}\n",
      "\u001b[0m\n",
      "\u001b[34m#metrics {\"StartTime\": 1622167077.4185278, \"EndTime\": 1622167077.418537, \"Dimensions\": {\"Algorithm\": \"Linear Learner\", \"Host\": \"algo-1\", \"Operation\": \"training\", \"epoch\": 2, \"model\": 19}, \"Metrics\": {\"train_absolute_loss_objective\": {\"sum\": 0.8077916336059571, \"count\": 1, \"min\": 0.8077916336059571, \"max\": 0.8077916336059571}}}\n",
      "\u001b[0m\n",
      "\u001b[34m#metrics {\"StartTime\": 1622167077.4185715, \"EndTime\": 1622167077.4185812, \"Dimensions\": {\"Algorithm\": \"Linear Learner\", \"Host\": \"algo-1\", \"Operation\": \"training\", \"epoch\": 2, \"model\": 20}, \"Metrics\": {\"train_absolute_loss_objective\": {\"sum\": 0.23008365154266358, \"count\": 1, \"min\": 0.23008365154266358, \"max\": 0.23008365154266358}}}\n",
      "\u001b[0m\n",
      "\u001b[34m#metrics {\"StartTime\": 1622167077.4186175, \"EndTime\": 1622167077.418627, \"Dimensions\": {\"Algorithm\": \"Linear Learner\", \"Host\": \"algo-1\", \"Operation\": \"training\", \"epoch\": 2, \"model\": 21}, \"Metrics\": {\"train_absolute_loss_objective\": {\"sum\": 0.23326999187469483, \"count\": 1, \"min\": 0.23326999187469483, \"max\": 0.23326999187469483}}}\n",
      "\u001b[0m\n",
      "\u001b[34m#metrics {\"StartTime\": 1622167077.4186668, \"EndTime\": 1622167077.418677, \"Dimensions\": {\"Algorithm\": \"Linear Learner\", \"Host\": \"algo-1\", \"Operation\": \"training\", \"epoch\": 2, \"model\": 22}, \"Metrics\": {\"train_absolute_loss_objective\": {\"sum\": 0.1968514358997345, \"count\": 1, \"min\": 0.1968514358997345, \"max\": 0.1968514358997345}}}\n",
      "\u001b[0m\n",
      "\u001b[34m#metrics {\"StartTime\": 1622167077.418712, \"EndTime\": 1622167077.418721, \"Dimensions\": {\"Algorithm\": \"Linear Learner\", \"Host\": \"algo-1\", \"Operation\": \"training\", \"epoch\": 2, \"model\": 23}, \"Metrics\": {\"train_absolute_loss_objective\": {\"sum\": 0.23779606342315673, \"count\": 1, \"min\": 0.23779606342315673, \"max\": 0.23779606342315673}}}\n",
      "\u001b[0m\n",
      "\u001b[34m#metrics {\"StartTime\": 1622167077.4187567, \"EndTime\": 1622167077.4187663, \"Dimensions\": {\"Algorithm\": \"Linear Learner\", \"Host\": \"algo-1\", \"Operation\": \"training\", \"epoch\": 2, \"model\": 24}, \"Metrics\": {\"train_absolute_loss_objective\": {\"sum\": 0.8650621604919434, \"count\": 1, \"min\": 0.8650621604919434, \"max\": 0.8650621604919434}}}\n",
      "\u001b[0m\n",
      "\u001b[34m#metrics {\"StartTime\": 1622167077.418801, \"EndTime\": 1622167077.4188108, \"Dimensions\": {\"Algorithm\": \"Linear Learner\", \"Host\": \"algo-1\", \"Operation\": \"training\", \"epoch\": 2, \"model\": 25}, \"Metrics\": {\"train_absolute_loss_objective\": {\"sum\": 0.8596559619903564, \"count\": 1, \"min\": 0.8596559619903564, \"max\": 0.8596559619903564}}}\n",
      "\u001b[0m\n",
      "\u001b[34m#metrics {\"StartTime\": 1622167077.4188437, \"EndTime\": 1622167077.4188528, \"Dimensions\": {\"Algorithm\": \"Linear Learner\", \"Host\": \"algo-1\", \"Operation\": \"training\", \"epoch\": 2, \"model\": 26}, \"Metrics\": {\"train_absolute_loss_objective\": {\"sum\": 0.8598085689544678, \"count\": 1, \"min\": 0.8598085689544678, \"max\": 0.8598085689544678}}}\n",
      "\u001b[0m\n",
      "\u001b[34m#metrics {\"StartTime\": 1622167077.4188857, \"EndTime\": 1622167077.4188945, \"Dimensions\": {\"Algorithm\": \"Linear Learner\", \"Host\": \"algo-1\", \"Operation\": \"training\", \"epoch\": 2, \"model\": 27}, \"Metrics\": {\"train_absolute_loss_objective\": {\"sum\": 0.8693349933624268, \"count\": 1, \"min\": 0.8693349933624268, \"max\": 0.8693349933624268}}}\n",
      "\u001b[0m\n",
      "\u001b[34m#metrics {\"StartTime\": 1622167077.418928, \"EndTime\": 1622167077.4189396, \"Dimensions\": {\"Algorithm\": \"Linear Learner\", \"Host\": \"algo-1\", \"Operation\": \"training\", \"epoch\": 2, \"model\": 28}, \"Metrics\": {\"train_absolute_loss_objective\": {\"sum\": 0.8632304000854493, \"count\": 1, \"min\": 0.8632304000854493, \"max\": 0.8632304000854493}}}\n",
      "\u001b[0m\n",
      "\u001b[34m#metrics {\"StartTime\": 1622167077.4189837, \"EndTime\": 1622167077.4189935, \"Dimensions\": {\"Algorithm\": \"Linear Learner\", \"Host\": \"algo-1\", \"Operation\": \"training\", \"epoch\": 2, \"model\": 29}, \"Metrics\": {\"train_absolute_loss_objective\": {\"sum\": 0.8638300704956055, \"count\": 1, \"min\": 0.8638300704956055, \"max\": 0.8638300704956055}}}\n",
      "\u001b[0m\n",
      "\u001b[34m#metrics {\"StartTime\": 1622167077.4190197, \"EndTime\": 1622167077.419027, \"Dimensions\": {\"Algorithm\": \"Linear Learner\", \"Host\": \"algo-1\", \"Operation\": \"training\", \"epoch\": 2, \"model\": 30}, \"Metrics\": {\"train_absolute_loss_objective\": {\"sum\": 0.873921365737915, \"count\": 1, \"min\": 0.873921365737915, \"max\": 0.873921365737915}}}\n",
      "\u001b[0m\n",
      "\u001b[34m#metrics {\"StartTime\": 1622167077.41905, \"EndTime\": 1622167077.4190571, \"Dimensions\": {\"Algorithm\": \"Linear Learner\", \"Host\": \"algo-1\", \"Operation\": \"training\", \"epoch\": 2, \"model\": 31}, \"Metrics\": {\"train_absolute_loss_objective\": {\"sum\": 0.8769000053405762, \"count\": 1, \"min\": 0.8769000053405762, \"max\": 0.8769000053405762}}}\n",
      "\u001b[0m\n",
      "\u001b[34m[05/28/2021 01:57:57 INFO 140155614271296] #quality_metric: host=algo-1, epoch=2, train absolute_loss_objective <loss>=0.8187944316864013\u001b[0m\n",
      "\u001b[34m[05/28/2021 01:57:57 INFO 140155614271296] #early_stopping_criteria_metric: host=algo-1, epoch=2, criteria=absolute_loss_objective, value=0.1968514358997345\u001b[0m\n",
      "\u001b[34m[05/28/2021 01:57:57 INFO 140155614271296] Epoch 2: Loss improved. Updating best model\u001b[0m\n",
      "\u001b[34m[05/28/2021 01:57:57 INFO 140155614271296] Saving model for epoch: 2\u001b[0m\n",
      "\u001b[34m[05/28/2021 01:57:57 INFO 140155614271296] Saved checkpoint to \"/tmp/tmpfd2_tdbb/mx-mod-0000.params\"\u001b[0m\n",
      "\u001b[34m[05/28/2021 01:57:57 INFO 140155614271296] #progress_metric: host=algo-1, completed 60.0 % of epochs\u001b[0m\n",
      "\u001b[34m#metrics {\"StartTime\": 1622167077.2950172, \"EndTime\": 1622167077.4287677, \"Dimensions\": {\"Algorithm\": \"Linear Learner\", \"Host\": \"algo-1\", \"Operation\": \"training\", \"epoch\": 2, \"Meta\": \"training_data_iter\"}, \"Metrics\": {\"Total Records Seen\": {\"sum\": 117.0, \"count\": 1, \"min\": 117, \"max\": 117}, \"Total Batches Seen\": {\"sum\": 25.0, \"count\": 1, \"min\": 25, \"max\": 25}, \"Max Records Seen Between Resets\": {\"sum\": 28.0, \"count\": 1, \"min\": 28, \"max\": 28}, \"Max Batches Seen Between Resets\": {\"sum\": 6.0, \"count\": 1, \"min\": 6, \"max\": 6}, \"Reset Count\": {\"sum\": 5.0, \"count\": 1, \"min\": 5, \"max\": 5}, \"Number of Records Since Last Reset\": {\"sum\": 28.0, \"count\": 1, \"min\": 28, \"max\": 28}, \"Number of Batches Since Last Reset\": {\"sum\": 6.0, \"count\": 1, \"min\": 6, \"max\": 6}}}\n",
      "\u001b[0m\n",
      "\u001b[34m[05/28/2021 01:57:57 INFO 140155614271296] #throughput_metric: host=algo-1, train throughput=209.13745777290237 records/second\u001b[0m\n",
      "\u001b[34m[2021-05-28 01:57:57.541] [tensorio] [info] epoch_stats={\"data_pipeline\": \"/opt/ml/input/data/train\", \"epoch\": 10, \"duration\": 112, \"num_examples\": 6, \"num_bytes\": 1344}\u001b[0m\n",
      "\u001b[34m#metrics {\"StartTime\": 1622167077.5413668, \"EndTime\": 1622167077.5414498, \"Dimensions\": {\"Algorithm\": \"Linear Learner\", \"Host\": \"algo-1\", \"Operation\": \"training\", \"epoch\": 3, \"model\": 0}, \"Metrics\": {\"train_absolute_loss_objective\": {\"sum\": 0.7967173862457275, \"count\": 1, \"min\": 0.7967173862457275, \"max\": 0.7967173862457275}}}\n",
      "\u001b[0m\n",
      "\u001b[34m#metrics {\"StartTime\": 1622167077.541572, \"EndTime\": 1622167077.541593, \"Dimensions\": {\"Algorithm\": \"Linear Learner\", \"Host\": \"algo-1\", \"Operation\": \"training\", \"epoch\": 3, \"model\": 1}, \"Metrics\": {\"train_absolute_loss_objective\": {\"sum\": 0.8151864051818848, \"count\": 1, \"min\": 0.8151864051818848, \"max\": 0.8151864051818848}}}\n",
      "\u001b[0m\n",
      "\u001b[34m#metrics {\"StartTime\": 1622167077.5416427, \"EndTime\": 1622167077.5416543, \"Dimensions\": {\"Algorithm\": \"Linear Learner\", \"Host\": \"algo-1\", \"Operation\": \"training\", \"epoch\": 3, \"model\": 2}, \"Metrics\": {\"train_absolute_loss_objective\": {\"sum\": 0.7989927387237549, \"count\": 1, \"min\": 0.7989927387237549, \"max\": 0.7989927387237549}}}\n",
      "\u001b[0m\n",
      "\u001b[34m#metrics {\"StartTime\": 1622167077.5416977, \"EndTime\": 1622167077.5417132, \"Dimensions\": {\"Algorithm\": \"Linear Learner\", \"Host\": \"algo-1\", \"Operation\": \"training\", \"epoch\": 3, \"model\": 3}, \"Metrics\": {\"train_absolute_loss_objective\": {\"sum\": 0.814226484298706, \"count\": 1, \"min\": 0.814226484298706, \"max\": 0.814226484298706}}}\n",
      "\u001b[0m\n",
      "\u001b[34m#metrics {\"StartTime\": 1622167077.541774, \"EndTime\": 1622167077.5417914, \"Dimensions\": {\"Algorithm\": \"Linear Learner\", \"Host\": \"algo-1\", \"Operation\": \"training\", \"epoch\": 3, \"model\": 4}, \"Metrics\": {\"train_absolute_loss_objective\": {\"sum\": 0.3874699211120605, \"count\": 1, \"min\": 0.3874699211120605, \"max\": 0.3874699211120605}}}\n",
      "\u001b[0m\n",
      "\u001b[34m#metrics {\"StartTime\": 1622167077.5418458, \"EndTime\": 1622167077.5418615, \"Dimensions\": {\"Algorithm\": \"Linear Learner\", \"Host\": \"algo-1\", \"Operation\": \"training\", \"epoch\": 3, \"model\": 5}, \"Metrics\": {\"train_absolute_loss_objective\": {\"sum\": 0.33221926212310793, \"count\": 1, \"min\": 0.33221926212310793, \"max\": 0.33221926212310793}}}\n",
      "\u001b[0m\n",
      "\u001b[34m#metrics {\"StartTime\": 1622167077.5419126, \"EndTime\": 1622167077.5419238, \"Dimensions\": {\"Algorithm\": \"Linear Learner\", \"Host\": \"algo-1\", \"Operation\": \"training\", \"epoch\": 3, \"model\": 6}, \"Metrics\": {\"train_absolute_loss_objective\": {\"sum\": 0.3188012504577637, \"count\": 1, \"min\": 0.3188012504577637, \"max\": 0.3188012504577637}}}\n",
      "\u001b[0m\n",
      "\u001b[34m#metrics {\"StartTime\": 1622167077.541975, \"EndTime\": 1622167077.541992, \"Dimensions\": {\"Algorithm\": \"Linear Learner\", \"Host\": \"algo-1\", \"Operation\": \"training\", \"epoch\": 3, \"model\": 7}, \"Metrics\": {\"train_absolute_loss_objective\": {\"sum\": 0.3094759368896484, \"count\": 1, \"min\": 0.3094759368896484, \"max\": 0.3094759368896484}}}\n",
      "\u001b[0m\n",
      "\u001b[34m#metrics {\"StartTime\": 1622167077.5420642, \"EndTime\": 1622167077.542083, \"Dimensions\": {\"Algorithm\": \"Linear Learner\", \"Host\": \"algo-1\", \"Operation\": \"training\", \"epoch\": 3, \"model\": 8}, \"Metrics\": {\"train_absolute_loss_objective\": {\"sum\": 0.8494594383239746, \"count\": 1, \"min\": 0.8494594383239746, \"max\": 0.8494594383239746}}}\n",
      "\u001b[0m\n",
      "\u001b[34m#metrics {\"StartTime\": 1622167077.5421352, \"EndTime\": 1622167077.5421524, \"Dimensions\": {\"Algorithm\": \"Linear Learner\", \"Host\": \"algo-1\", \"Operation\": \"training\", \"epoch\": 3, \"model\": 9}, \"Metrics\": {\"train_absolute_loss_objective\": {\"sum\": 0.7850573539733887, \"count\": 1, \"min\": 0.7850573539733887, \"max\": 0.7850573539733887}}}\n",
      "\u001b[0m\n",
      "\u001b[34m#metrics {\"StartTime\": 1622167077.5422068, \"EndTime\": 1622167077.5422227, \"Dimensions\": {\"Algorithm\": \"Linear Learner\", \"Host\": \"algo-1\", \"Operation\": \"training\", \"epoch\": 3, \"model\": 10}, \"Metrics\": {\"train_absolute_loss_objective\": {\"sum\": 0.7916917324066162, \"count\": 1, \"min\": 0.7916917324066162, \"max\": 0.7916917324066162}}}\n",
      "\u001b[0m\n",
      "\u001b[34m#metrics {\"StartTime\": 1622167077.5422776, \"EndTime\": 1622167077.5422945, \"Dimensions\": {\"Algorithm\": \"Linear Learner\", \"Host\": \"algo-1\", \"Operation\": \"training\", \"epoch\": 3, \"model\": 11}, \"Metrics\": {\"train_absolute_loss_objective\": {\"sum\": 0.7774019718170166, \"count\": 1, \"min\": 0.7774019718170166, \"max\": 0.7774019718170166}}}\n",
      "\u001b[0m\n",
      "\u001b[34m#metrics {\"StartTime\": 1622167077.542347, \"EndTime\": 1622167077.5423634, \"Dimensions\": {\"Algorithm\": \"Linear Learner\", \"Host\": \"algo-1\", \"Operation\": \"training\", \"epoch\": 3, \"model\": 12}, \"Metrics\": {\"train_absolute_loss_objective\": {\"sum\": 0.3283275294303894, \"count\": 1, \"min\": 0.3283275294303894, \"max\": 0.3283275294303894}}}\n",
      "\u001b[0m\n",
      "\u001b[34m#metrics {\"StartTime\": 1622167077.5424166, \"EndTime\": 1622167077.5424325, \"Dimensions\": {\"Algorithm\": \"Linear Learner\", \"Host\": \"algo-1\", \"Operation\": \"training\", \"epoch\": 3, \"model\": 13}, \"Metrics\": {\"train_absolute_loss_objective\": {\"sum\": 0.3188500547409058, \"count\": 1, \"min\": 0.3188500547409058, \"max\": 0.3188500547409058}}}\n",
      "\u001b[0m\n",
      "\u001b[34m#metrics {\"StartTime\": 1622167077.5424836, \"EndTime\": 1622167077.5424993, \"Dimensions\": {\"Algorithm\": \"Linear Learner\", \"Host\": \"algo-1\", \"Operation\": \"training\", \"epoch\": 3, \"model\": 14}, \"Metrics\": {\"train_absolute_loss_objective\": {\"sum\": 0.3289454793930054, \"count\": 1, \"min\": 0.3289454793930054, \"max\": 0.3289454793930054}}}\n",
      "\u001b[0m\n",
      "\u001b[34m#metrics {\"StartTime\": 1622167077.542549, \"EndTime\": 1622167077.5425625, \"Dimensions\": {\"Algorithm\": \"Linear Learner\", \"Host\": \"algo-1\", \"Operation\": \"training\", \"epoch\": 3, \"model\": 15}, \"Metrics\": {\"train_absolute_loss_objective\": {\"sum\": 0.3162355351448059, \"count\": 1, \"min\": 0.3162355351448059, \"max\": 0.3162355351448059}}}\n",
      "\u001b[0m\n",
      "\u001b[34m#metrics {\"StartTime\": 1622167077.5426183, \"EndTime\": 1622167077.5426357, \"Dimensions\": {\"Algorithm\": \"Linear Learner\", \"Host\": \"algo-1\", \"Operation\": \"training\", \"epoch\": 3, \"model\": 16}, \"Metrics\": {\"train_absolute_loss_objective\": {\"sum\": 0.7631506633758545, \"count\": 1, \"min\": 0.7631506633758545, \"max\": 0.7631506633758545}}}\n",
      "\u001b[0m\n",
      "\u001b[34m#metrics {\"StartTime\": 1622167077.5426884, \"EndTime\": 1622167077.5427039, \"Dimensions\": {\"Algorithm\": \"Linear Learner\", \"Host\": \"algo-1\", \"Operation\": \"training\", \"epoch\": 3, \"model\": 17}, \"Metrics\": {\"train_absolute_loss_objective\": {\"sum\": 0.8110994148254395, \"count\": 1, \"min\": 0.8110994148254395, \"max\": 0.8110994148254395}}}\n",
      "\u001b[0m\n",
      "\u001b[34m#metrics {\"StartTime\": 1622167077.5427547, \"EndTime\": 1622167077.5427694, \"Dimensions\": {\"Algorithm\": \"Linear Learner\", \"Host\": \"algo-1\", \"Operation\": \"training\", \"epoch\": 3, \"model\": 18}, \"Metrics\": {\"train_absolute_loss_objective\": {\"sum\": 0.788631067276001, \"count\": 1, \"min\": 0.788631067276001, \"max\": 0.788631067276001}}}\n",
      "\u001b[0m\n",
      "\u001b[34m#metrics {\"StartTime\": 1622167077.5428197, \"EndTime\": 1622167077.54283, \"Dimensions\": {\"Algorithm\": \"Linear Learner\", \"Host\": \"algo-1\", \"Operation\": \"training\", \"epoch\": 3, \"model\": 19}, \"Metrics\": {\"train_absolute_loss_objective\": {\"sum\": 0.7857771492004395, \"count\": 1, \"min\": 0.7857771492004395, \"max\": 0.7857771492004395}}}\n",
      "\u001b[0m\n",
      "\u001b[34m#metrics {\"StartTime\": 1622167077.5428638, \"EndTime\": 1622167077.5428782, \"Dimensions\": {\"Algorithm\": \"Linear Learner\", \"Host\": \"algo-1\", \"Operation\": \"training\", \"epoch\": 3, \"model\": 20}, \"Metrics\": {\"train_absolute_loss_objective\": {\"sum\": 0.3382116889953613, \"count\": 1, \"min\": 0.3382116889953613, \"max\": 0.3382116889953613}}}\n",
      "\u001b[0m\n",
      "\u001b[34m#metrics {\"StartTime\": 1622167077.5429323, \"EndTime\": 1622167077.5429473, \"Dimensions\": {\"Algorithm\": \"Linear Learner\", \"Host\": \"algo-1\", \"Operation\": \"training\", \"epoch\": 3, \"model\": 21}, \"Metrics\": {\"train_absolute_loss_objective\": {\"sum\": 0.33576531410217286, \"count\": 1, \"min\": 0.33576531410217286, \"max\": 0.33576531410217286}}}\n",
      "\u001b[0m\n",
      "\u001b[34m#metrics {\"StartTime\": 1622167077.5429962, \"EndTime\": 1622167077.54301, \"Dimensions\": {\"Algorithm\": \"Linear Learner\", \"Host\": \"algo-1\", \"Operation\": \"training\", \"epoch\": 3, \"model\": 22}, \"Metrics\": {\"train_absolute_loss_objective\": {\"sum\": 0.24748008251190184, \"count\": 1, \"min\": 0.24748008251190184, \"max\": 0.24748008251190184}}}\n",
      "\u001b[0m\n",
      "\u001b[34m#metrics {\"StartTime\": 1622167077.5430577, \"EndTime\": 1622167077.543072, \"Dimensions\": {\"Algorithm\": \"Linear Learner\", \"Host\": \"algo-1\", \"Operation\": \"training\", \"epoch\": 3, \"model\": 23}, \"Metrics\": {\"train_absolute_loss_objective\": {\"sum\": 0.3298615407943726, \"count\": 1, \"min\": 0.3298615407943726, \"max\": 0.3298615407943726}}}\n",
      "\u001b[0m\n",
      "\u001b[34m#metrics {\"StartTime\": 1622167077.5431185, \"EndTime\": 1622167077.5431337, \"Dimensions\": {\"Algorithm\": \"Linear Learner\", \"Host\": \"algo-1\", \"Operation\": \"training\", \"epoch\": 3, \"model\": 24}, \"Metrics\": {\"train_absolute_loss_objective\": {\"sum\": 0.8731658935546875, \"count\": 1, \"min\": 0.8731658935546875, \"max\": 0.8731658935546875}}}\n",
      "\u001b[0m\n",
      "\u001b[34m#metrics {\"StartTime\": 1622167077.5431807, \"EndTime\": 1622167077.5431967, \"Dimensions\": {\"Algorithm\": \"Linear Learner\", \"Host\": \"algo-1\", \"Operation\": \"training\", \"epoch\": 3, \"model\": 25}, \"Metrics\": {\"train_absolute_loss_objective\": {\"sum\": 0.8550756645202636, \"count\": 1, \"min\": 0.8550756645202636, \"max\": 0.8550756645202636}}}\n",
      "\u001b[0m\n",
      "\u001b[34m#metrics {\"StartTime\": 1622167077.5432515, \"EndTime\": 1622167077.5432675, \"Dimensions\": {\"Algorithm\": \"Linear Learner\", \"Host\": \"algo-1\", \"Operation\": \"training\", \"epoch\": 3, \"model\": 26}, \"Metrics\": {\"train_absolute_loss_objective\": {\"sum\": 0.8638545227050781, \"count\": 1, \"min\": 0.8638545227050781, \"max\": 0.8638545227050781}}}\n",
      "\u001b[0m\n",
      "\u001b[34m#metrics {\"StartTime\": 1622167077.543328, \"EndTime\": 1622167077.5433435, \"Dimensions\": {\"Algorithm\": \"Linear Learner\", \"Host\": \"algo-1\", \"Operation\": \"training\", \"epoch\": 3, \"model\": 27}, \"Metrics\": {\"train_absolute_loss_objective\": {\"sum\": 0.8658096981048584, \"count\": 1, \"min\": 0.8658096981048584, \"max\": 0.8658096981048584}}}\n",
      "\u001b[0m\n",
      "\u001b[34m#metrics {\"StartTime\": 1622167077.5433955, \"EndTime\": 1622167077.5434058, \"Dimensions\": {\"Algorithm\": \"Linear Learner\", \"Host\": \"algo-1\", \"Operation\": \"training\", \"epoch\": 3, \"model\": 28}, \"Metrics\": {\"train_absolute_loss_objective\": {\"sum\": 0.8834657955169678, \"count\": 1, \"min\": 0.8834657955169678, \"max\": 0.8834657955169678}}}\n",
      "\u001b[0m\n",
      "\u001b[34m#metrics {\"StartTime\": 1622167077.5434325, \"EndTime\": 1622167077.5434396, \"Dimensions\": {\"Algorithm\": \"Linear Learner\", \"Host\": \"algo-1\", \"Operation\": \"training\", \"epoch\": 3, \"model\": 29}, \"Metrics\": {\"train_absolute_loss_objective\": {\"sum\": 0.8836883735656739, \"count\": 1, \"min\": 0.8836883735656739, \"max\": 0.8836883735656739}}}\n",
      "\u001b[0m\n",
      "\u001b[34m#metrics {\"StartTime\": 1622167077.5434709, \"EndTime\": 1622167077.5434844, \"Dimensions\": {\"Algorithm\": \"Linear Learner\", \"Host\": \"algo-1\", \"Operation\": \"training\", \"epoch\": 3, \"model\": 30}, \"Metrics\": {\"train_absolute_loss_objective\": {\"sum\": 0.8807846832275391, \"count\": 1, \"min\": 0.8807846832275391, \"max\": 0.8807846832275391}}}\n",
      "\u001b[0m\n",
      "\u001b[34m#metrics {\"StartTime\": 1622167077.5435402, \"EndTime\": 1622167077.5435565, \"Dimensions\": {\"Algorithm\": \"Linear Learner\", \"Host\": \"algo-1\", \"Operation\": \"training\", \"epoch\": 3, \"model\": 31}, \"Metrics\": {\"train_absolute_loss_objective\": {\"sum\": 0.8634838485717773, \"count\": 1, \"min\": 0.8634838485717773, \"max\": 0.8634838485717773}}}\n",
      "\u001b[0m\n",
      "\u001b[34m[05/28/2021 01:57:57 INFO 140155614271296] #quality_metric: host=algo-1, epoch=3, train absolute_loss_objective <loss>=0.7967173862457275\u001b[0m\n",
      "\u001b[34m[05/28/2021 01:57:57 INFO 140155614271296] #early_stopping_criteria_metric: host=algo-1, epoch=3, criteria=absolute_loss_objective, value=0.24748008251190184\u001b[0m\n",
      "\u001b[34m[05/28/2021 01:57:57 INFO 140155614271296] Saving model for epoch: 3\u001b[0m\n",
      "\u001b[34m[05/28/2021 01:57:57 INFO 140155614271296] Saved checkpoint to \"/tmp/tmpn5gj486b/mx-mod-0000.params\"\u001b[0m\n",
      "\u001b[34m[05/28/2021 01:57:57 INFO 140155614271296] #progress_metric: host=algo-1, completed 80.0 % of epochs\u001b[0m\n",
      "\u001b[34m#metrics {\"StartTime\": 1622167077.4290645, \"EndTime\": 1622167077.553044, \"Dimensions\": {\"Algorithm\": \"Linear Learner\", \"Host\": \"algo-1\", \"Operation\": \"training\", \"epoch\": 3, \"Meta\": \"training_data_iter\"}, \"Metrics\": {\"Total Records Seen\": {\"sum\": 145.0, \"count\": 1, \"min\": 145, \"max\": 145}, \"Total Batches Seen\": {\"sum\": 31.0, \"count\": 1, \"min\": 31, \"max\": 31}, \"Max Records Seen Between Resets\": {\"sum\": 28.0, \"count\": 1, \"min\": 28, \"max\": 28}, \"Max Batches Seen Between Resets\": {\"sum\": 6.0, \"count\": 1, \"min\": 6, \"max\": 6}, \"Reset Count\": {\"sum\": 6.0, \"count\": 1, \"min\": 6, \"max\": 6}, \"Number of Records Since Last Reset\": {\"sum\": 28.0, \"count\": 1, \"min\": 28, \"max\": 28}, \"Number of Batches Since Last Reset\": {\"sum\": 6.0, \"count\": 1, \"min\": 6, \"max\": 6}}}\n",
      "\u001b[0m\n",
      "\u001b[34m[05/28/2021 01:57:57 INFO 140155614271296] #throughput_metric: host=algo-1, train throughput=225.57514689019203 records/second\u001b[0m\n",
      "\u001b[34m[2021-05-28 01:57:57.729] [tensorio] [info] epoch_stats={\"data_pipeline\": \"/opt/ml/input/data/train\", \"epoch\": 12, \"duration\": 175, \"num_examples\": 6, \"num_bytes\": 1344}\u001b[0m\n",
      "\u001b[34m#metrics {\"StartTime\": 1622167077.7292793, \"EndTime\": 1622167077.7293625, \"Dimensions\": {\"Algorithm\": \"Linear Learner\", \"Host\": \"algo-1\", \"Operation\": \"training\", \"epoch\": 4, \"model\": 0}, \"Metrics\": {\"train_absolute_loss_objective\": {\"sum\": 0.7747709941864014, \"count\": 1, \"min\": 0.7747709941864014, \"max\": 0.7747709941864014}}}\n",
      "\u001b[0m\n",
      "\u001b[34m#metrics {\"StartTime\": 1622167077.7295065, \"EndTime\": 1622167077.729526, \"Dimensions\": {\"Algorithm\": \"Linear Learner\", \"Host\": \"algo-1\", \"Operation\": \"training\", \"epoch\": 4, \"model\": 1}, \"Metrics\": {\"train_absolute_loss_objective\": {\"sum\": 0.7929263877868652, \"count\": 1, \"min\": 0.7929263877868652, \"max\": 0.7929263877868652}}}\n",
      "\u001b[0m\n",
      "\u001b[34m#metrics {\"StartTime\": 1622167077.729573, \"EndTime\": 1622167077.7295847, \"Dimensions\": {\"Algorithm\": \"Linear Learner\", \"Host\": \"algo-1\", \"Operation\": \"training\", \"epoch\": 4, \"model\": 2}, \"Metrics\": {\"train_absolute_loss_objective\": {\"sum\": 0.7770463466644287, \"count\": 1, \"min\": 0.7770463466644287, \"max\": 0.7770463466644287}}}\n",
      "\u001b[0m\n",
      "\u001b[34m#metrics {\"StartTime\": 1622167077.729621, \"EndTime\": 1622167077.729631, \"Dimensions\": {\"Algorithm\": \"Linear Learner\", \"Host\": \"algo-1\", \"Operation\": \"training\", \"epoch\": 4, \"model\": 3}, \"Metrics\": {\"train_absolute_loss_objective\": {\"sum\": 0.7919664955139161, \"count\": 1, \"min\": 0.7919664955139161, \"max\": 0.7919664955139161}}}\n",
      "\u001b[0m\n",
      "\u001b[34m#metrics {\"StartTime\": 1622167077.7296655, \"EndTime\": 1622167077.7296753, \"Dimensions\": {\"Algorithm\": \"Linear Learner\", \"Host\": \"algo-1\", \"Operation\": \"training\", \"epoch\": 4, \"model\": 4}, \"Metrics\": {\"train_absolute_loss_objective\": {\"sum\": 0.2621904373168945, \"count\": 1, \"min\": 0.2621904373168945, \"max\": 0.2621904373168945}}}\n",
      "\u001b[0m\n",
      "\u001b[34m#metrics {\"StartTime\": 1622167077.7297096, \"EndTime\": 1622167077.729719, \"Dimensions\": {\"Algorithm\": \"Linear Learner\", \"Host\": \"algo-1\", \"Operation\": \"training\", \"epoch\": 4, \"model\": 5}, \"Metrics\": {\"train_absolute_loss_objective\": {\"sum\": 0.2442250680923462, \"count\": 1, \"min\": 0.2442250680923462, \"max\": 0.2442250680923462}}}\n",
      "\u001b[0m\n",
      "\u001b[34m#metrics {\"StartTime\": 1622167077.7297523, \"EndTime\": 1622167077.7297616, \"Dimensions\": {\"Algorithm\": \"Linear Learner\", \"Host\": \"algo-1\", \"Operation\": \"training\", \"epoch\": 4, \"model\": 6}, \"Metrics\": {\"train_absolute_loss_objective\": {\"sum\": 0.24703680276870726, \"count\": 1, \"min\": 0.24703680276870726, \"max\": 0.24703680276870726}}}\n",
      "\u001b[0m\n",
      "\u001b[34m#metrics {\"StartTime\": 1622167077.729796, \"EndTime\": 1622167077.7298052, \"Dimensions\": {\"Algorithm\": \"Linear Learner\", \"Host\": \"algo-1\", \"Operation\": \"training\", \"epoch\": 4, \"model\": 7}, \"Metrics\": {\"train_absolute_loss_objective\": {\"sum\": 0.21628297567367555, \"count\": 1, \"min\": 0.21628297567367555, \"max\": 0.21628297567367555}}}\n",
      "\u001b[0m\n",
      "\u001b[34m#metrics {\"StartTime\": 1622167077.729839, \"EndTime\": 1622167077.7298486, \"Dimensions\": {\"Algorithm\": \"Linear Learner\", \"Host\": \"algo-1\", \"Operation\": \"training\", \"epoch\": 4, \"model\": 8}, \"Metrics\": {\"train_absolute_loss_objective\": {\"sum\": 0.8275168418884278, \"count\": 1, \"min\": 0.8275168418884278, \"max\": 0.8275168418884278}}}\n",
      "\u001b[0m\n",
      "\u001b[34m#metrics {\"StartTime\": 1622167077.7298818, \"EndTime\": 1622167077.729891, \"Dimensions\": {\"Algorithm\": \"Linear Learner\", \"Host\": \"algo-1\", \"Operation\": \"training\", \"epoch\": 4, \"model\": 9}, \"Metrics\": {\"train_absolute_loss_objective\": {\"sum\": 0.7628016948699952, \"count\": 1, \"min\": 0.7628016948699952, \"max\": 0.7628016948699952}}}\n",
      "\u001b[0m\n",
      "\u001b[34m#metrics {\"StartTime\": 1622167077.7299244, \"EndTime\": 1622167077.7299337, \"Dimensions\": {\"Algorithm\": \"Linear Learner\", \"Host\": \"algo-1\", \"Operation\": \"training\", \"epoch\": 4, \"model\": 10}, \"Metrics\": {\"train_absolute_loss_objective\": {\"sum\": 0.7697494888305664, \"count\": 1, \"min\": 0.7697494888305664, \"max\": 0.7697494888305664}}}\n",
      "\u001b[0m\n",
      "\u001b[34m#metrics {\"StartTime\": 1622167077.7299674, \"EndTime\": 1622167077.729977, \"Dimensions\": {\"Algorithm\": \"Linear Learner\", \"Host\": \"algo-1\", \"Operation\": \"training\", \"epoch\": 4, \"model\": 11}, \"Metrics\": {\"train_absolute_loss_objective\": {\"sum\": 0.7551463508605957, \"count\": 1, \"min\": 0.7551463508605957, \"max\": 0.7551463508605957}}}\n",
      "\u001b[0m\n",
      "\u001b[34m#metrics {\"StartTime\": 1622167077.73001, \"EndTime\": 1622167077.7300196, \"Dimensions\": {\"Algorithm\": \"Linear Learner\", \"Host\": \"algo-1\", \"Operation\": \"training\", \"epoch\": 4, \"model\": 12}, \"Metrics\": {\"train_absolute_loss_objective\": {\"sum\": 0.24295772790908812, \"count\": 1, \"min\": 0.24295772790908812, \"max\": 0.24295772790908812}}}\n",
      "\u001b[0m\n",
      "\u001b[34m#metrics {\"StartTime\": 1622167077.7300534, \"EndTime\": 1622167077.730063, \"Dimensions\": {\"Algorithm\": \"Linear Learner\", \"Host\": \"algo-1\", \"Operation\": \"training\", \"epoch\": 4, \"model\": 13}, \"Metrics\": {\"train_absolute_loss_objective\": {\"sum\": 0.2295822548866272, \"count\": 1, \"min\": 0.2295822548866272, \"max\": 0.2295822548866272}}}\n",
      "\u001b[0m\n",
      "\u001b[34m#metrics {\"StartTime\": 1622167077.7300985, \"EndTime\": 1622167077.7301083, \"Dimensions\": {\"Algorithm\": \"Linear Learner\", \"Host\": \"algo-1\", \"Operation\": \"training\", \"epoch\": 4, \"model\": 14}, \"Metrics\": {\"train_absolute_loss_objective\": {\"sum\": 0.24381197690963746, \"count\": 1, \"min\": 0.24381197690963746, \"max\": 0.24381197690963746}}}\n",
      "\u001b[0m\n",
      "\u001b[34m#metrics {\"StartTime\": 1622167077.7301424, \"EndTime\": 1622167077.730152, \"Dimensions\": {\"Algorithm\": \"Linear Learner\", \"Host\": \"algo-1\", \"Operation\": \"training\", \"epoch\": 4, \"model\": 15}, \"Metrics\": {\"train_absolute_loss_objective\": {\"sum\": 0.22596850633621215, \"count\": 1, \"min\": 0.22596850633621215, \"max\": 0.22596850633621215}}}\n",
      "\u001b[0m\n",
      "\u001b[34m#metrics {\"StartTime\": 1622167077.730185, \"EndTime\": 1622167077.730194, \"Dimensions\": {\"Algorithm\": \"Linear Learner\", \"Host\": \"algo-1\", \"Operation\": \"training\", \"epoch\": 4, \"model\": 16}, \"Metrics\": {\"train_absolute_loss_objective\": {\"sum\": 0.7417164134979248, \"count\": 1, \"min\": 0.7417164134979248, \"max\": 0.7417164134979248}}}\n",
      "\u001b[0m\n",
      "\u001b[34m#metrics {\"StartTime\": 1622167077.7302272, \"EndTime\": 1622167077.7302365, \"Dimensions\": {\"Algorithm\": \"Linear Learner\", \"Host\": \"algo-1\", \"Operation\": \"training\", \"epoch\": 4, \"model\": 17}, \"Metrics\": {\"train_absolute_loss_objective\": {\"sum\": 0.7892882537841797, \"count\": 1, \"min\": 0.7892882537841797, \"max\": 0.7892882537841797}}}\n",
      "\u001b[0m\n",
      "\u001b[34m#metrics {\"StartTime\": 1622167077.7302697, \"EndTime\": 1622167077.730279, \"Dimensions\": {\"Algorithm\": \"Linear Learner\", \"Host\": \"algo-1\", \"Operation\": \"training\", \"epoch\": 4, \"model\": 18}, \"Metrics\": {\"train_absolute_loss_objective\": {\"sum\": 0.767156629562378, \"count\": 1, \"min\": 0.767156629562378, \"max\": 0.767156629562378}}}\n",
      "\u001b[0m\n",
      "\u001b[34m#metrics {\"StartTime\": 1622167077.7303116, \"EndTime\": 1622167077.730321, \"Dimensions\": {\"Algorithm\": \"Linear Learner\", \"Host\": \"algo-1\", \"Operation\": \"training\", \"epoch\": 4, \"model\": 19}, \"Metrics\": {\"train_absolute_loss_objective\": {\"sum\": 0.7640029430389405, \"count\": 1, \"min\": 0.7640029430389405, \"max\": 0.7640029430389405}}}\n",
      "\u001b[0m\n",
      "\u001b[34m#metrics {\"StartTime\": 1622167077.7303538, \"EndTime\": 1622167077.7303631, \"Dimensions\": {\"Algorithm\": \"Linear Learner\", \"Host\": \"algo-1\", \"Operation\": \"training\", \"epoch\": 4, \"model\": 20}, \"Metrics\": {\"train_absolute_loss_objective\": {\"sum\": 0.3963390016555786, \"count\": 1, \"min\": 0.3963390016555786, \"max\": 0.3963390016555786}}}\n",
      "\u001b[0m\n",
      "\u001b[34m#metrics {\"StartTime\": 1622167077.7303965, \"EndTime\": 1622167077.7304053, \"Dimensions\": {\"Algorithm\": \"Linear Learner\", \"Host\": \"algo-1\", \"Operation\": \"training\", \"epoch\": 4, \"model\": 21}, \"Metrics\": {\"train_absolute_loss_objective\": {\"sum\": 0.3903671407699585, \"count\": 1, \"min\": 0.3903671407699585, \"max\": 0.3903671407699585}}}\n",
      "\u001b[0m\n",
      "\u001b[34m#metrics {\"StartTime\": 1622167077.7304385, \"EndTime\": 1622167077.7304478, \"Dimensions\": {\"Algorithm\": \"Linear Learner\", \"Host\": \"algo-1\", \"Operation\": \"training\", \"epoch\": 4, \"model\": 22}, \"Metrics\": {\"train_absolute_loss_objective\": {\"sum\": 0.375342059135437, \"count\": 1, \"min\": 0.375342059135437, \"max\": 0.375342059135437}}}\n",
      "\u001b[0m\n",
      "\u001b[34m#metrics {\"StartTime\": 1622167077.730481, \"EndTime\": 1622167077.7304902, \"Dimensions\": {\"Algorithm\": \"Linear Learner\", \"Host\": \"algo-1\", \"Operation\": \"training\", \"epoch\": 4, \"model\": 23}, \"Metrics\": {\"train_absolute_loss_objective\": {\"sum\": 0.3766560983657837, \"count\": 1, \"min\": 0.3766560983657837, \"max\": 0.3766560983657837}}}\n",
      "\u001b[0m\n",
      "\u001b[34m#metrics {\"StartTime\": 1622167077.7305233, \"EndTime\": 1622167077.7305334, \"Dimensions\": {\"Algorithm\": \"Linear Learner\", \"Host\": \"algo-1\", \"Operation\": \"training\", \"epoch\": 4, \"model\": 24}, \"Metrics\": {\"train_absolute_loss_objective\": {\"sum\": 0.8739268779754639, \"count\": 1, \"min\": 0.8739268779754639, \"max\": 0.8739268779754639}}}\n",
      "\u001b[0m\n",
      "\u001b[34m#metrics {\"StartTime\": 1622167077.7305698, \"EndTime\": 1622167077.7305832, \"Dimensions\": {\"Algorithm\": \"Linear Learner\", \"Host\": \"algo-1\", \"Operation\": \"training\", \"epoch\": 4, \"model\": 25}, \"Metrics\": {\"train_absolute_loss_objective\": {\"sum\": 0.8576983451843262, \"count\": 1, \"min\": 0.8576983451843262, \"max\": 0.8576983451843262}}}\n",
      "\u001b[0m\n",
      "\u001b[34m#metrics {\"StartTime\": 1622167077.730614, \"EndTime\": 1622167077.730622, \"Dimensions\": {\"Algorithm\": \"Linear Learner\", \"Host\": \"algo-1\", \"Operation\": \"training\", \"epoch\": 4, \"model\": 26}, \"Metrics\": {\"train_absolute_loss_objective\": {\"sum\": 0.8665784358978271, \"count\": 1, \"min\": 0.8665784358978271, \"max\": 0.8665784358978271}}}\n",
      "\u001b[0m\n",
      "\u001b[34m#metrics {\"StartTime\": 1622167077.7306464, \"EndTime\": 1622167077.7306533, \"Dimensions\": {\"Algorithm\": \"Linear Learner\", \"Host\": \"algo-1\", \"Operation\": \"training\", \"epoch\": 4, \"model\": 27}, \"Metrics\": {\"train_absolute_loss_objective\": {\"sum\": 0.8610667228698731, \"count\": 1, \"min\": 0.8610667228698731, \"max\": 0.8610667228698731}}}\n",
      "\u001b[0m\n",
      "\u001b[34m#metrics {\"StartTime\": 1622167077.730678, \"EndTime\": 1622167077.7306852, \"Dimensions\": {\"Algorithm\": \"Linear Learner\", \"Host\": \"algo-1\", \"Operation\": \"training\", \"epoch\": 4, \"model\": 28}, \"Metrics\": {\"train_absolute_loss_objective\": {\"sum\": 0.8618556785583497, \"count\": 1, \"min\": 0.8618556785583497, \"max\": 0.8618556785583497}}}\n",
      "\u001b[0m\n",
      "\u001b[34m#metrics {\"StartTime\": 1622167077.7307086, \"EndTime\": 1622167077.7307153, \"Dimensions\": {\"Algorithm\": \"Linear Learner\", \"Host\": \"algo-1\", \"Operation\": \"training\", \"epoch\": 4, \"model\": 29}, \"Metrics\": {\"train_absolute_loss_objective\": {\"sum\": 0.8619621372222901, \"count\": 1, \"min\": 0.8619621372222901, \"max\": 0.8619621372222901}}}\n",
      "\u001b[0m\n",
      "\u001b[34m#metrics {\"StartTime\": 1622167077.730738, \"EndTime\": 1622167077.7307448, \"Dimensions\": {\"Algorithm\": \"Linear Learner\", \"Host\": \"algo-1\", \"Operation\": \"training\", \"epoch\": 4, \"model\": 30}, \"Metrics\": {\"train_absolute_loss_objective\": {\"sum\": 0.8603006553649902, \"count\": 1, \"min\": 0.8603006553649902, \"max\": 0.8603006553649902}}}\n",
      "\u001b[0m\n",
      "\u001b[34m#metrics {\"StartTime\": 1622167077.7307673, \"EndTime\": 1622167077.730774, \"Dimensions\": {\"Algorithm\": \"Linear Learner\", \"Host\": \"algo-1\", \"Operation\": \"training\", \"epoch\": 4, \"model\": 31}, \"Metrics\": {\"train_absolute_loss_objective\": {\"sum\": 0.8829768848419189, \"count\": 1, \"min\": 0.8829768848419189, \"max\": 0.8829768848419189}}}\n",
      "\u001b[0m\n",
      "\u001b[34m[05/28/2021 01:57:57 INFO 140155614271296] #quality_metric: host=algo-1, epoch=4, train absolute_loss_objective <loss>=0.7747709941864014\u001b[0m\n",
      "\u001b[34m[05/28/2021 01:57:57 INFO 140155614271296] #early_stopping_criteria_metric: host=algo-1, epoch=4, criteria=absolute_loss_objective, value=0.21628297567367555\u001b[0m\n",
      "\u001b[34m[05/28/2021 01:57:57 INFO 140155614271296] Saving model for epoch: 4\u001b[0m\n",
      "\u001b[34m[05/28/2021 01:57:57 INFO 140155614271296] Saved checkpoint to \"/tmp/tmphamt05bq/mx-mod-0000.params\"\u001b[0m\n",
      "\u001b[34m[05/28/2021 01:57:57 INFO 140155614271296] #progress_metric: host=algo-1, completed 100.0 % of epochs\u001b[0m\n",
      "\u001b[34m#metrics {\"StartTime\": 1622167077.5533419, \"EndTime\": 1622167077.7399266, \"Dimensions\": {\"Algorithm\": \"Linear Learner\", \"Host\": \"algo-1\", \"Operation\": \"training\", \"epoch\": 4, \"Meta\": \"training_data_iter\"}, \"Metrics\": {\"Total Records Seen\": {\"sum\": 173.0, \"count\": 1, \"min\": 173, \"max\": 173}, \"Total Batches Seen\": {\"sum\": 37.0, \"count\": 1, \"min\": 37, \"max\": 37}, \"Max Records Seen Between Resets\": {\"sum\": 28.0, \"count\": 1, \"min\": 28, \"max\": 28}, \"Max Batches Seen Between Resets\": {\"sum\": 6.0, \"count\": 1, \"min\": 6, \"max\": 6}, \"Reset Count\": {\"sum\": 7.0, \"count\": 1, \"min\": 7, \"max\": 7}, \"Number of Records Since Last Reset\": {\"sum\": 28.0, \"count\": 1, \"min\": 28, \"max\": 28}, \"Number of Batches Since Last Reset\": {\"sum\": 6.0, \"count\": 1, \"min\": 6, \"max\": 6}}}\n",
      "\u001b[0m\n",
      "\u001b[34m[05/28/2021 01:57:57 INFO 140155614271296] #throughput_metric: host=algo-1, train throughput=149.94804956027008 records/second\u001b[0m\n",
      "\u001b[34m[05/28/2021 01:57:57 WARNING 140155614271296] wait_for_all_workers will not sync workers since the kv store is not running distributed\u001b[0m\n",
      "\u001b[34m[05/28/2021 01:57:57 WARNING 140155614271296] wait_for_all_workers will not sync workers since the kv store is not running distributed\u001b[0m\n",
      "\u001b[34m[2021-05-28 01:57:57.740] [tensorio] [info] epoch_stats={\"data_pipeline\": \"/opt/ml/input/data/train\", \"epoch\": 14, \"duration\": 0, \"num_examples\": 1, \"num_bytes\": 240}\u001b[0m\n",
      "\u001b[34m[2021-05-28 01:57:57.755] [tensorio] [info] epoch_stats={\"data_pipeline\": \"/opt/ml/input/data/train\", \"epoch\": 16, \"duration\": 11, \"num_examples\": 6, \"num_bytes\": 1344}\u001b[0m\n",
      "\u001b[34m[05/28/2021 01:57:57 INFO 140155614271296] #train_score (algo-1) : ('absolute_loss_objective', 6573.966378348215)\u001b[0m\n",
      "\u001b[34m[05/28/2021 01:57:57 INFO 140155614271296] #train_score (algo-1) : ('mse', 57896977.71428572)\u001b[0m\n",
      "\u001b[34m[05/28/2021 01:57:57 INFO 140155614271296] #train_score (algo-1) : ('absolute_loss', 6573.966378348215)\u001b[0m\n",
      "\u001b[34m[05/28/2021 01:57:57 INFO 140155614271296] #quality_metric: host=algo-1, train absolute_loss_objective <loss>=6573.966378348215\u001b[0m\n",
      "\u001b[34m[05/28/2021 01:57:57 INFO 140155614271296] #quality_metric: host=algo-1, train mse <loss>=57896977.71428572\u001b[0m\n",
      "\u001b[34m[05/28/2021 01:57:57 INFO 140155614271296] #quality_metric: host=algo-1, train absolute_loss <loss>=6573.966378348215\u001b[0m\n",
      "\u001b[34m[05/28/2021 01:57:57 INFO 140155614271296] Best model found for hyperparameters: {\"optimizer\": \"adam\", \"learning_rate\": 0.1, \"wd\": 1, \"l1\": 0.0, \"lr_scheduler_step\": 10, \"lr_scheduler_factor\": 0.99, \"lr_scheduler_minimum_lr\": 0.0001}\u001b[0m\n",
      "\u001b[34m[05/28/2021 01:57:57 INFO 140155614271296] Saved checkpoint to \"/tmp/tmpvitv7u0w/mx-mod-0000.params\"\u001b[0m\n",
      "\u001b[34m[05/28/2021 01:57:57 INFO 140155614271296] Test data is not provided.\u001b[0m\n",
      "\u001b[34m#metrics {\"StartTime\": 1622167076.8366868, \"EndTime\": 1622167077.762375, \"Dimensions\": {\"Algorithm\": \"Linear Learner\", \"Host\": \"algo-1\", \"Operation\": \"training\"}, \"Metrics\": {\"initialize.time\": {\"sum\": 180.56321144104004, \"count\": 1, \"min\": 180.56321144104004, \"max\": 180.56321144104004}, \"epochs\": {\"sum\": 5.0, \"count\": 1, \"min\": 5, \"max\": 5}, \"check_early_stopping.time\": {\"sum\": 3.875255584716797, \"count\": 5, \"min\": 0.2281665802001953, \"max\": 1.2021064758300781}, \"update.time\": {\"sum\": 702.080488204956, \"count\": 5, \"min\": 121.16217613220215, \"max\": 183.69603157043457}, \"finalize.time\": {\"sum\": 16.231298446655273, \"count\": 1, \"min\": 16.231298446655273, \"max\": 16.231298446655273}, \"setuptime\": {\"sum\": 24.02019500732422, \"count\": 1, \"min\": 24.02019500732422, \"max\": 24.02019500732422}, \"totaltime\": {\"sum\": 1139.3015384674072, \"count\": 1, \"min\": 1139.3015384674072, \"max\": 1139.3015384674072}}}\n",
      "\u001b[0m\n",
      "\n",
      "2021-05-28 01:58:21 Completed - Training job completed\n",
      "Training seconds: 69\n",
      "Billable seconds: 69\n"
     ]
    }
   ],
   "source": [
    "linear.fit({'train':s3_train_data})"
   ]
  },
  {
   "cell_type": "code",
   "execution_count": 28,
   "metadata": {},
   "outputs": [
    {
     "ename": "ClientError",
     "evalue": "An error occurred (ValidationException) when calling the CreateEndpointConfig operation: 1 validation error detected: Value 'm1.m5.large' at 'productionVariants.1.member.instanceType' failed to satisfy constraint: Member must satisfy enum value set: [ml.r5d.12xlarge, ml.r5.12xlarge, ml.p2.xlarge, ml.m5.4xlarge, ml.m4.16xlarge, ml.r5d.24xlarge, ml.r5.24xlarge, ml.p3.16xlarge, ml.m5d.xlarge, ml.m5.large, ml.t2.xlarge, ml.p2.16xlarge, ml.m5d.12xlarge, ml.inf1.2xlarge, ml.m5d.24xlarge, ml.c4.2xlarge, ml.c5.2xlarge, ml.c4.4xlarge, ml.inf1.6xlarge, ml.c5d.2xlarge, ml.c5.4xlarge, ml.g4dn.xlarge, ml.g4dn.12xlarge, ml.c5d.4xlarge, ml.g4dn.2xlarge, ml.c4.8xlarge, ml.c4.large, ml.c5d.xlarge, ml.c5.large, ml.g4dn.4xlarge, ml.c5.9xlarge, ml.g4dn.16xlarge, ml.c5d.large, ml.c5.xlarge, ml.c5d.9xlarge, ml.c4.xlarge, ml.inf1.xlarge, ml.g4dn.8xlarge, ml.inf1.24xlarge, ml.m5d.2xlarge, ml.t2.2xlarge, ml.c5d.18xlarge, ml.m5d.4xlarge, ml.t2.medium, ml.c5.18xlarge, ml.r5d.2xlarge, ml.r5.2xlarge, ml.p3.2xlarge, ml.m5d.large, ml.m5.xlarge, ml.m4.10xlarge, ml.t2.large, ml.r5d.4xlarge, ml.r5.4xlarge, ml.m5.12xlarge, ml.m4.xlarge, ml.m5.24xlarge, ml.m4.2xlarge, ml.p2.8xlarge, ml.m5.2xlarge, ml.r5d.xlarge, ml.r5d.large, ml.r5.xlarge, ml.r5.large, ml.p3.8xlarge, ml.m4.4xlarge]",
     "output_type": "error",
     "traceback": [
      "\u001b[0;31m---------------------------------------------------------------------------\u001b[0m",
      "\u001b[0;31mClientError\u001b[0m                               Traceback (most recent call last)",
      "\u001b[0;32m<ipython-input-28-a705002082c9>\u001b[0m in \u001b[0;36m<module>\u001b[0;34m\u001b[0m\n\u001b[1;32m      2\u001b[0m \u001b[0;34m\u001b[0m\u001b[0m\n\u001b[1;32m      3\u001b[0m linear_regressor = linear.deploy(initial_instance_count = 1,\n\u001b[0;32m----> 4\u001b[0;31m                                           instance_type = 'm1.m5.large')\n\u001b[0m",
      "\u001b[0;32m/opt/conda/lib/python3.7/site-packages/sagemaker/estimator.py\u001b[0m in \u001b[0;36mdeploy\u001b[0;34m(self, initial_instance_count, instance_type, serializer, deserializer, accelerator_type, endpoint_name, use_compiled_model, wait, model_name, kms_key, data_capture_config, tags, **kwargs)\u001b[0m\n\u001b[1;32m    939\u001b[0m             \u001b[0mwait\u001b[0m\u001b[0;34m=\u001b[0m\u001b[0mwait\u001b[0m\u001b[0;34m,\u001b[0m\u001b[0;34m\u001b[0m\u001b[0;34m\u001b[0m\u001b[0m\n\u001b[1;32m    940\u001b[0m             \u001b[0mkms_key\u001b[0m\u001b[0;34m=\u001b[0m\u001b[0mkms_key\u001b[0m\u001b[0;34m,\u001b[0m\u001b[0;34m\u001b[0m\u001b[0;34m\u001b[0m\u001b[0m\n\u001b[0;32m--> 941\u001b[0;31m             \u001b[0mdata_capture_config\u001b[0m\u001b[0;34m=\u001b[0m\u001b[0mdata_capture_config\u001b[0m\u001b[0;34m,\u001b[0m\u001b[0;34m\u001b[0m\u001b[0;34m\u001b[0m\u001b[0m\n\u001b[0m\u001b[1;32m    942\u001b[0m         )\n\u001b[1;32m    943\u001b[0m \u001b[0;34m\u001b[0m\u001b[0m\n",
      "\u001b[0;32m/opt/conda/lib/python3.7/site-packages/sagemaker/model.py\u001b[0m in \u001b[0;36mdeploy\u001b[0;34m(self, initial_instance_count, instance_type, serializer, deserializer, accelerator_type, endpoint_name, tags, kms_key, wait, data_capture_config, **kwargs)\u001b[0m\n\u001b[1;32m    783\u001b[0m             \u001b[0mkms_key\u001b[0m\u001b[0;34m=\u001b[0m\u001b[0mkms_key\u001b[0m\u001b[0;34m,\u001b[0m\u001b[0;34m\u001b[0m\u001b[0;34m\u001b[0m\u001b[0m\n\u001b[1;32m    784\u001b[0m             \u001b[0mwait\u001b[0m\u001b[0;34m=\u001b[0m\u001b[0mwait\u001b[0m\u001b[0;34m,\u001b[0m\u001b[0;34m\u001b[0m\u001b[0;34m\u001b[0m\u001b[0m\n\u001b[0;32m--> 785\u001b[0;31m             \u001b[0mdata_capture_config_dict\u001b[0m\u001b[0;34m=\u001b[0m\u001b[0mdata_capture_config_dict\u001b[0m\u001b[0;34m,\u001b[0m\u001b[0;34m\u001b[0m\u001b[0;34m\u001b[0m\u001b[0m\n\u001b[0m\u001b[1;32m    786\u001b[0m         )\n\u001b[1;32m    787\u001b[0m \u001b[0;34m\u001b[0m\u001b[0m\n",
      "\u001b[0;32m/opt/conda/lib/python3.7/site-packages/sagemaker/session.py\u001b[0m in \u001b[0;36mendpoint_from_production_variants\u001b[0;34m(self, name, production_variants, tags, kms_key, wait, data_capture_config_dict)\u001b[0m\n\u001b[1;32m   3464\u001b[0m                 \u001b[0mconfig_options\u001b[0m\u001b[0;34m[\u001b[0m\u001b[0;34m\"DataCaptureConfig\"\u001b[0m\u001b[0;34m]\u001b[0m \u001b[0;34m=\u001b[0m \u001b[0mdata_capture_config_dict\u001b[0m\u001b[0;34m\u001b[0m\u001b[0;34m\u001b[0m\u001b[0m\n\u001b[1;32m   3465\u001b[0m \u001b[0;34m\u001b[0m\u001b[0m\n\u001b[0;32m-> 3466\u001b[0;31m             \u001b[0mself\u001b[0m\u001b[0;34m.\u001b[0m\u001b[0msagemaker_client\u001b[0m\u001b[0;34m.\u001b[0m\u001b[0mcreate_endpoint_config\u001b[0m\u001b[0;34m(\u001b[0m\u001b[0;34m**\u001b[0m\u001b[0mconfig_options\u001b[0m\u001b[0;34m)\u001b[0m\u001b[0;34m\u001b[0m\u001b[0;34m\u001b[0m\u001b[0m\n\u001b[0m\u001b[1;32m   3467\u001b[0m         \u001b[0;32mreturn\u001b[0m \u001b[0mself\u001b[0m\u001b[0;34m.\u001b[0m\u001b[0mcreate_endpoint\u001b[0m\u001b[0;34m(\u001b[0m\u001b[0mendpoint_name\u001b[0m\u001b[0;34m=\u001b[0m\u001b[0mname\u001b[0m\u001b[0;34m,\u001b[0m \u001b[0mconfig_name\u001b[0m\u001b[0;34m=\u001b[0m\u001b[0mname\u001b[0m\u001b[0;34m,\u001b[0m \u001b[0mtags\u001b[0m\u001b[0;34m=\u001b[0m\u001b[0mtags\u001b[0m\u001b[0;34m,\u001b[0m \u001b[0mwait\u001b[0m\u001b[0;34m=\u001b[0m\u001b[0mwait\u001b[0m\u001b[0;34m)\u001b[0m\u001b[0;34m\u001b[0m\u001b[0;34m\u001b[0m\u001b[0m\n\u001b[1;32m   3468\u001b[0m \u001b[0;34m\u001b[0m\u001b[0m\n",
      "\u001b[0;32m/opt/conda/lib/python3.7/site-packages/botocore/client.py\u001b[0m in \u001b[0;36m_api_call\u001b[0;34m(self, *args, **kwargs)\u001b[0m\n\u001b[1;32m    355\u001b[0m                     \"%s() only accepts keyword arguments.\" % py_operation_name)\n\u001b[1;32m    356\u001b[0m             \u001b[0;31m# The \"self\" in this scope is referring to the BaseClient.\u001b[0m\u001b[0;34m\u001b[0m\u001b[0;34m\u001b[0m\u001b[0;34m\u001b[0m\u001b[0m\n\u001b[0;32m--> 357\u001b[0;31m             \u001b[0;32mreturn\u001b[0m \u001b[0mself\u001b[0m\u001b[0;34m.\u001b[0m\u001b[0m_make_api_call\u001b[0m\u001b[0;34m(\u001b[0m\u001b[0moperation_name\u001b[0m\u001b[0;34m,\u001b[0m \u001b[0mkwargs\u001b[0m\u001b[0;34m)\u001b[0m\u001b[0;34m\u001b[0m\u001b[0;34m\u001b[0m\u001b[0m\n\u001b[0m\u001b[1;32m    358\u001b[0m \u001b[0;34m\u001b[0m\u001b[0m\n\u001b[1;32m    359\u001b[0m         \u001b[0m_api_call\u001b[0m\u001b[0;34m.\u001b[0m\u001b[0m__name__\u001b[0m \u001b[0;34m=\u001b[0m \u001b[0mstr\u001b[0m\u001b[0;34m(\u001b[0m\u001b[0mpy_operation_name\u001b[0m\u001b[0;34m)\u001b[0m\u001b[0;34m\u001b[0m\u001b[0;34m\u001b[0m\u001b[0m\n",
      "\u001b[0;32m/opt/conda/lib/python3.7/site-packages/botocore/client.py\u001b[0m in \u001b[0;36m_make_api_call\u001b[0;34m(self, operation_name, api_params)\u001b[0m\n\u001b[1;32m    674\u001b[0m             \u001b[0merror_code\u001b[0m \u001b[0;34m=\u001b[0m \u001b[0mparsed_response\u001b[0m\u001b[0;34m.\u001b[0m\u001b[0mget\u001b[0m\u001b[0;34m(\u001b[0m\u001b[0;34m\"Error\"\u001b[0m\u001b[0;34m,\u001b[0m \u001b[0;34m{\u001b[0m\u001b[0;34m}\u001b[0m\u001b[0;34m)\u001b[0m\u001b[0;34m.\u001b[0m\u001b[0mget\u001b[0m\u001b[0;34m(\u001b[0m\u001b[0;34m\"Code\"\u001b[0m\u001b[0;34m)\u001b[0m\u001b[0;34m\u001b[0m\u001b[0;34m\u001b[0m\u001b[0m\n\u001b[1;32m    675\u001b[0m             \u001b[0merror_class\u001b[0m \u001b[0;34m=\u001b[0m \u001b[0mself\u001b[0m\u001b[0;34m.\u001b[0m\u001b[0mexceptions\u001b[0m\u001b[0;34m.\u001b[0m\u001b[0mfrom_code\u001b[0m\u001b[0;34m(\u001b[0m\u001b[0merror_code\u001b[0m\u001b[0;34m)\u001b[0m\u001b[0;34m\u001b[0m\u001b[0;34m\u001b[0m\u001b[0m\n\u001b[0;32m--> 676\u001b[0;31m             \u001b[0;32mraise\u001b[0m \u001b[0merror_class\u001b[0m\u001b[0;34m(\u001b[0m\u001b[0mparsed_response\u001b[0m\u001b[0;34m,\u001b[0m \u001b[0moperation_name\u001b[0m\u001b[0;34m)\u001b[0m\u001b[0;34m\u001b[0m\u001b[0;34m\u001b[0m\u001b[0m\n\u001b[0m\u001b[1;32m    677\u001b[0m         \u001b[0;32melse\u001b[0m\u001b[0;34m:\u001b[0m\u001b[0;34m\u001b[0m\u001b[0;34m\u001b[0m\u001b[0m\n\u001b[1;32m    678\u001b[0m             \u001b[0;32mreturn\u001b[0m \u001b[0mparsed_response\u001b[0m\u001b[0;34m\u001b[0m\u001b[0;34m\u001b[0m\u001b[0m\n",
      "\u001b[0;31mClientError\u001b[0m: An error occurred (ValidationException) when calling the CreateEndpointConfig operation: 1 validation error detected: Value 'm1.m5.large' at 'productionVariants.1.member.instanceType' failed to satisfy constraint: Member must satisfy enum value set: [ml.r5d.12xlarge, ml.r5.12xlarge, ml.p2.xlarge, ml.m5.4xlarge, ml.m4.16xlarge, ml.r5d.24xlarge, ml.r5.24xlarge, ml.p3.16xlarge, ml.m5d.xlarge, ml.m5.large, ml.t2.xlarge, ml.p2.16xlarge, ml.m5d.12xlarge, ml.inf1.2xlarge, ml.m5d.24xlarge, ml.c4.2xlarge, ml.c5.2xlarge, ml.c4.4xlarge, ml.inf1.6xlarge, ml.c5d.2xlarge, ml.c5.4xlarge, ml.g4dn.xlarge, ml.g4dn.12xlarge, ml.c5d.4xlarge, ml.g4dn.2xlarge, ml.c4.8xlarge, ml.c4.large, ml.c5d.xlarge, ml.c5.large, ml.g4dn.4xlarge, ml.c5.9xlarge, ml.g4dn.16xlarge, ml.c5d.large, ml.c5.xlarge, ml.c5d.9xlarge, ml.c4.xlarge, ml.inf1.xlarge, ml.g4dn.8xlarge, ml.inf1.24xlarge, ml.m5d.2xlarge, ml.t2.2xlarge, ml.c5d.18xlarge, ml.m5d.4xlarge, ml.t2.medium, ml.c5.18xlarge, ml.r5d.2xlarge, ml.r5.2xlarge, ml.p3.2xlarge, ml.m5d.large, ml.m5.xlarge, ml.m4.10xlarge, ml.t2.large, ml.r5d.4xlarge, ml.r5.4xlarge, ml.m5.12xlarge, ml.m4.xlarge, ml.m5.24xlarge, ml.m4.2xlarge, ml.p2.8xlarge, ml.m5.2xlarge, ml.r5d.xlarge, ml.r5d.large, ml.r5.xlarge, ml.r5.large, ml.p3.8xlarge, ml.m4.4xlarge]"
     ]
    }
   ],
   "source": [
    "# Deploying the model to perform inference \n",
    "\n",
    "linear_regressor = linear.deploy(initial_instance_count = 1,\n",
    "                                          instance_type = 'm1.m5.large')"
   ]
  },
  {
   "cell_type": "code",
   "execution_count": null,
   "metadata": {},
   "outputs": [],
   "source": [
    "from sagemaker.predictor import csv_serializer, json_deserializer\n",
    "\n",
    "# Content type overrides the data that will be passed to the deployed model, since the deployed model expects data in text/csv format.\n",
    "\n",
    "# Serializer accepts a single argument, the input data, and returns a sequence of bytes in the specified content type\n",
    "\n",
    "# Deserializer accepts two arguments, the result data and the response content type, and return a sequence of bytes in the specified content type.\n",
    "\n",
    "# Reference: https://sagemaker.readthedocs.io/en/stable/predictors.html\n",
    "\n",
    "linear_regressor.content_type = 'text/csv'\n",
    "linear_regressor.serializer = csv_serializer\n",
    "linear_regressor.deserializer = json_deserializer"
   ]
  },
  {
   "cell_type": "code",
   "execution_count": null,
   "metadata": {},
   "outputs": [],
   "source": []
  }
 ],
 "metadata": {
  "instance_type": "ml.t3.medium",
  "kernelspec": {
   "display_name": "Python 3 (Data Science)",
   "language": "python",
   "name": "python3__SAGEMAKER_INTERNAL__arn:aws:sagemaker:us-east-2:429704687514:image/datascience-1.0"
  },
  "language_info": {
   "codemirror_mode": {
    "name": "ipython",
    "version": 3
   },
   "file_extension": ".py",
   "mimetype": "text/x-python",
   "name": "python",
   "nbconvert_exporter": "python",
   "pygments_lexer": "ipython3",
   "version": "3.7.10"
  }
 },
 "nbformat": 4,
 "nbformat_minor": 4
}
